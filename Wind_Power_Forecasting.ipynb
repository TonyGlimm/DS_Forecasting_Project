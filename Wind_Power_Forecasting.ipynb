{
  "nbformat": 4,
  "nbformat_minor": 0,
  "metadata": {
    "colab": {
      "provenance": [],
      "authorship_tag": "ABX9TyOtDAK7sguhTCjdkOeRKD9l"
    },
    "kernelspec": {
      "name": "python3",
      "display_name": "Python 3"
    },
    "language_info": {
      "name": "python"
    }
  },
  "cells": [
    {
      "cell_type": "markdown",
      "source": [
        "## Libraries import"
      ],
      "metadata": {
        "id": "RERvL3MR_-f6"
      }
    },
    {
      "cell_type": "code",
      "execution_count": 1,
      "metadata": {
        "colab": {
          "base_uri": "https://localhost:8080/"
        },
        "id": "00Z7yKLYjZHN",
        "outputId": "2305f616-ceaf-4bb6-8175-a76c5cd0de67"
      },
      "outputs": [
        {
          "output_type": "stream",
          "name": "stdout",
          "text": [
            "Mounted at drive\n"
          ]
        }
      ],
      "source": [
        "import datetime\n",
        "\n",
        "import pandas as pd\n",
        "import seaborn as sns\n",
        "import numpy as np\n",
        "\n",
        "from google.colab import drive\n",
        "drive.mount('drive', force_remount=True)"
      ]
    },
    {
      "cell_type": "markdown",
      "source": [
        "## Reading data"
      ],
      "metadata": {
        "id": "4pRJC5xVAFUU"
      }
    },
    {
      "cell_type": "code",
      "source": [
        "data =pd.read_csv('drive/My Drive/Colab Notebooks/data_wind/turbine_data.csv', parse_dates=[\"Unnamed: 0\"]) #dont forget parse_dates"
      ],
      "metadata": {
        "id": "8_3EWg1_jj7s"
      },
      "execution_count": 58,
      "outputs": []
    },
    {
      "cell_type": "code",
      "source": [
        "#data.head()\n",
        "data.tail()"
      ],
      "metadata": {
        "colab": {
          "base_uri": "https://localhost:8080/",
          "height": 0
        },
        "id": "A6C9jWEvj-9y",
        "outputId": "ea63cefa-9a85-4a5d-b079-b127b3e9de2b"
      },
      "execution_count": 59,
      "outputs": [
        {
          "output_type": "execute_result",
          "data": {
            "text/plain": [
              "                      Unnamed: 0  ActivePower  AmbientTemperatue  \\\n",
              "118219 2020-03-30 23:10:00+00:00    70.044465          27.523741   \n",
              "118220 2020-03-30 23:20:00+00:00    40.833474          27.602882   \n",
              "118221 2020-03-30 23:30:00+00:00    20.777790          27.560925   \n",
              "118222 2020-03-30 23:40:00+00:00    62.091039          27.810472   \n",
              "118223 2020-03-30 23:50:00+00:00    68.664425          27.915828   \n",
              "\n",
              "        BearingShaftTemperature  Blade1PitchAngle  Blade2PitchAngle  \\\n",
              "118219                45.711129          1.515669          1.950088   \n",
              "118220                45.598573          1.702809          2.136732   \n",
              "118221                45.462045          1.706214          2.139664   \n",
              "118222                45.343827          1.575352          2.009781   \n",
              "118223                45.231610          1.499323          1.933124   \n",
              "\n",
              "        Blade3PitchAngle  ControlBoxTemperature  GearboxBearingTemperature  \\\n",
              "118219          1.950088                    0.0                  59.821165   \n",
              "118220          2.136732                    0.0                  59.142038   \n",
              "118221          2.139664                    0.0                  58.439439   \n",
              "118222          2.009781                    0.0                  58.205413   \n",
              "118223          1.933124                    0.0                  58.581716   \n",
              "\n",
              "        GearboxOilTemperature  ...  GeneratorWinding2Temperature  \\\n",
              "118219              55.193793  ...                     58.148777   \n",
              "118220              54.798545  ...                     57.550367   \n",
              "118221              54.380456  ...                     57.099335   \n",
              "118222              54.079014  ...                     56.847239   \n",
              "118223              54.080505  ...                     56.741040   \n",
              "\n",
              "        HubTemperature  MainBoxTemperature  NacellePosition  ReactivePower  \\\n",
              "118219       39.008931           36.476562            178.0      13.775785   \n",
              "118220       39.006759           36.328125            178.0       8.088928   \n",
              "118221       39.003815           36.131944            178.0       4.355978   \n",
              "118222       39.003815           36.007805            190.0      12.018077   \n",
              "118223       39.003815           35.914062            203.0      14.439669   \n",
              "\n",
              "        RotorRPM  TurbineStatus  WTG  WindDirection WindSpeed  \n",
              "118219  9.234004            2.0  G01          178.0  3.533445  \n",
              "118220  9.229370            2.0  G01          178.0  3.261231  \n",
              "118221  9.236802            2.0  G01          178.0  3.331839  \n",
              "118222  9.237374            2.0  G01          190.0  3.284468  \n",
              "118223  9.235532            2.0  G01          203.0  3.475205  \n",
              "\n",
              "[5 rows x 22 columns]"
            ],
            "text/html": [
              "\n",
              "  <div id=\"df-19359fc2-2f6d-4311-9289-561612ba9108\">\n",
              "    <div class=\"colab-df-container\">\n",
              "      <div>\n",
              "<style scoped>\n",
              "    .dataframe tbody tr th:only-of-type {\n",
              "        vertical-align: middle;\n",
              "    }\n",
              "\n",
              "    .dataframe tbody tr th {\n",
              "        vertical-align: top;\n",
              "    }\n",
              "\n",
              "    .dataframe thead th {\n",
              "        text-align: right;\n",
              "    }\n",
              "</style>\n",
              "<table border=\"1\" class=\"dataframe\">\n",
              "  <thead>\n",
              "    <tr style=\"text-align: right;\">\n",
              "      <th></th>\n",
              "      <th>Unnamed: 0</th>\n",
              "      <th>ActivePower</th>\n",
              "      <th>AmbientTemperatue</th>\n",
              "      <th>BearingShaftTemperature</th>\n",
              "      <th>Blade1PitchAngle</th>\n",
              "      <th>Blade2PitchAngle</th>\n",
              "      <th>Blade3PitchAngle</th>\n",
              "      <th>ControlBoxTemperature</th>\n",
              "      <th>GearboxBearingTemperature</th>\n",
              "      <th>GearboxOilTemperature</th>\n",
              "      <th>...</th>\n",
              "      <th>GeneratorWinding2Temperature</th>\n",
              "      <th>HubTemperature</th>\n",
              "      <th>MainBoxTemperature</th>\n",
              "      <th>NacellePosition</th>\n",
              "      <th>ReactivePower</th>\n",
              "      <th>RotorRPM</th>\n",
              "      <th>TurbineStatus</th>\n",
              "      <th>WTG</th>\n",
              "      <th>WindDirection</th>\n",
              "      <th>WindSpeed</th>\n",
              "    </tr>\n",
              "  </thead>\n",
              "  <tbody>\n",
              "    <tr>\n",
              "      <th>118219</th>\n",
              "      <td>2020-03-30 23:10:00+00:00</td>\n",
              "      <td>70.044465</td>\n",
              "      <td>27.523741</td>\n",
              "      <td>45.711129</td>\n",
              "      <td>1.515669</td>\n",
              "      <td>1.950088</td>\n",
              "      <td>1.950088</td>\n",
              "      <td>0.0</td>\n",
              "      <td>59.821165</td>\n",
              "      <td>55.193793</td>\n",
              "      <td>...</td>\n",
              "      <td>58.148777</td>\n",
              "      <td>39.008931</td>\n",
              "      <td>36.476562</td>\n",
              "      <td>178.0</td>\n",
              "      <td>13.775785</td>\n",
              "      <td>9.234004</td>\n",
              "      <td>2.0</td>\n",
              "      <td>G01</td>\n",
              "      <td>178.0</td>\n",
              "      <td>3.533445</td>\n",
              "    </tr>\n",
              "    <tr>\n",
              "      <th>118220</th>\n",
              "      <td>2020-03-30 23:20:00+00:00</td>\n",
              "      <td>40.833474</td>\n",
              "      <td>27.602882</td>\n",
              "      <td>45.598573</td>\n",
              "      <td>1.702809</td>\n",
              "      <td>2.136732</td>\n",
              "      <td>2.136732</td>\n",
              "      <td>0.0</td>\n",
              "      <td>59.142038</td>\n",
              "      <td>54.798545</td>\n",
              "      <td>...</td>\n",
              "      <td>57.550367</td>\n",
              "      <td>39.006759</td>\n",
              "      <td>36.328125</td>\n",
              "      <td>178.0</td>\n",
              "      <td>8.088928</td>\n",
              "      <td>9.229370</td>\n",
              "      <td>2.0</td>\n",
              "      <td>G01</td>\n",
              "      <td>178.0</td>\n",
              "      <td>3.261231</td>\n",
              "    </tr>\n",
              "    <tr>\n",
              "      <th>118221</th>\n",
              "      <td>2020-03-30 23:30:00+00:00</td>\n",
              "      <td>20.777790</td>\n",
              "      <td>27.560925</td>\n",
              "      <td>45.462045</td>\n",
              "      <td>1.706214</td>\n",
              "      <td>2.139664</td>\n",
              "      <td>2.139664</td>\n",
              "      <td>0.0</td>\n",
              "      <td>58.439439</td>\n",
              "      <td>54.380456</td>\n",
              "      <td>...</td>\n",
              "      <td>57.099335</td>\n",
              "      <td>39.003815</td>\n",
              "      <td>36.131944</td>\n",
              "      <td>178.0</td>\n",
              "      <td>4.355978</td>\n",
              "      <td>9.236802</td>\n",
              "      <td>2.0</td>\n",
              "      <td>G01</td>\n",
              "      <td>178.0</td>\n",
              "      <td>3.331839</td>\n",
              "    </tr>\n",
              "    <tr>\n",
              "      <th>118222</th>\n",
              "      <td>2020-03-30 23:40:00+00:00</td>\n",
              "      <td>62.091039</td>\n",
              "      <td>27.810472</td>\n",
              "      <td>45.343827</td>\n",
              "      <td>1.575352</td>\n",
              "      <td>2.009781</td>\n",
              "      <td>2.009781</td>\n",
              "      <td>0.0</td>\n",
              "      <td>58.205413</td>\n",
              "      <td>54.079014</td>\n",
              "      <td>...</td>\n",
              "      <td>56.847239</td>\n",
              "      <td>39.003815</td>\n",
              "      <td>36.007805</td>\n",
              "      <td>190.0</td>\n",
              "      <td>12.018077</td>\n",
              "      <td>9.237374</td>\n",
              "      <td>2.0</td>\n",
              "      <td>G01</td>\n",
              "      <td>190.0</td>\n",
              "      <td>3.284468</td>\n",
              "    </tr>\n",
              "    <tr>\n",
              "      <th>118223</th>\n",
              "      <td>2020-03-30 23:50:00+00:00</td>\n",
              "      <td>68.664425</td>\n",
              "      <td>27.915828</td>\n",
              "      <td>45.231610</td>\n",
              "      <td>1.499323</td>\n",
              "      <td>1.933124</td>\n",
              "      <td>1.933124</td>\n",
              "      <td>0.0</td>\n",
              "      <td>58.581716</td>\n",
              "      <td>54.080505</td>\n",
              "      <td>...</td>\n",
              "      <td>56.741040</td>\n",
              "      <td>39.003815</td>\n",
              "      <td>35.914062</td>\n",
              "      <td>203.0</td>\n",
              "      <td>14.439669</td>\n",
              "      <td>9.235532</td>\n",
              "      <td>2.0</td>\n",
              "      <td>G01</td>\n",
              "      <td>203.0</td>\n",
              "      <td>3.475205</td>\n",
              "    </tr>\n",
              "  </tbody>\n",
              "</table>\n",
              "<p>5 rows × 22 columns</p>\n",
              "</div>\n",
              "      <button class=\"colab-df-convert\" onclick=\"convertToInteractive('df-19359fc2-2f6d-4311-9289-561612ba9108')\"\n",
              "              title=\"Convert this dataframe to an interactive table.\"\n",
              "              style=\"display:none;\">\n",
              "        \n",
              "  <svg xmlns=\"http://www.w3.org/2000/svg\" height=\"24px\"viewBox=\"0 0 24 24\"\n",
              "       width=\"24px\">\n",
              "    <path d=\"M0 0h24v24H0V0z\" fill=\"none\"/>\n",
              "    <path d=\"M18.56 5.44l.94 2.06.94-2.06 2.06-.94-2.06-.94-.94-2.06-.94 2.06-2.06.94zm-11 1L8.5 8.5l.94-2.06 2.06-.94-2.06-.94L8.5 2.5l-.94 2.06-2.06.94zm10 10l.94 2.06.94-2.06 2.06-.94-2.06-.94-.94-2.06-.94 2.06-2.06.94z\"/><path d=\"M17.41 7.96l-1.37-1.37c-.4-.4-.92-.59-1.43-.59-.52 0-1.04.2-1.43.59L10.3 9.45l-7.72 7.72c-.78.78-.78 2.05 0 2.83L4 21.41c.39.39.9.59 1.41.59.51 0 1.02-.2 1.41-.59l7.78-7.78 2.81-2.81c.8-.78.8-2.07 0-2.86zM5.41 20L4 18.59l7.72-7.72 1.47 1.35L5.41 20z\"/>\n",
              "  </svg>\n",
              "      </button>\n",
              "      \n",
              "  <style>\n",
              "    .colab-df-container {\n",
              "      display:flex;\n",
              "      flex-wrap:wrap;\n",
              "      gap: 12px;\n",
              "    }\n",
              "\n",
              "    .colab-df-convert {\n",
              "      background-color: #E8F0FE;\n",
              "      border: none;\n",
              "      border-radius: 50%;\n",
              "      cursor: pointer;\n",
              "      display: none;\n",
              "      fill: #1967D2;\n",
              "      height: 32px;\n",
              "      padding: 0 0 0 0;\n",
              "      width: 32px;\n",
              "    }\n",
              "\n",
              "    .colab-df-convert:hover {\n",
              "      background-color: #E2EBFA;\n",
              "      box-shadow: 0px 1px 2px rgba(60, 64, 67, 0.3), 0px 1px 3px 1px rgba(60, 64, 67, 0.15);\n",
              "      fill: #174EA6;\n",
              "    }\n",
              "\n",
              "    [theme=dark] .colab-df-convert {\n",
              "      background-color: #3B4455;\n",
              "      fill: #D2E3FC;\n",
              "    }\n",
              "\n",
              "    [theme=dark] .colab-df-convert:hover {\n",
              "      background-color: #434B5C;\n",
              "      box-shadow: 0px 1px 3px 1px rgba(0, 0, 0, 0.15);\n",
              "      filter: drop-shadow(0px 1px 2px rgba(0, 0, 0, 0.3));\n",
              "      fill: #FFFFFF;\n",
              "    }\n",
              "  </style>\n",
              "\n",
              "      <script>\n",
              "        const buttonEl =\n",
              "          document.querySelector('#df-19359fc2-2f6d-4311-9289-561612ba9108 button.colab-df-convert');\n",
              "        buttonEl.style.display =\n",
              "          google.colab.kernel.accessAllowed ? 'block' : 'none';\n",
              "\n",
              "        async function convertToInteractive(key) {\n",
              "          const element = document.querySelector('#df-19359fc2-2f6d-4311-9289-561612ba9108');\n",
              "          const dataTable =\n",
              "            await google.colab.kernel.invokeFunction('convertToInteractive',\n",
              "                                                     [key], {});\n",
              "          if (!dataTable) return;\n",
              "\n",
              "          const docLinkHtml = 'Like what you see? Visit the ' +\n",
              "            '<a target=\"_blank\" href=https://colab.research.google.com/notebooks/data_table.ipynb>data table notebook</a>'\n",
              "            + ' to learn more about interactive tables.';\n",
              "          element.innerHTML = '';\n",
              "          dataTable['output_type'] = 'display_data';\n",
              "          await google.colab.output.renderOutput(dataTable, element);\n",
              "          const docLink = document.createElement('div');\n",
              "          docLink.innerHTML = docLinkHtml;\n",
              "          element.appendChild(docLink);\n",
              "        }\n",
              "      </script>\n",
              "    </div>\n",
              "  </div>\n",
              "  "
            ]
          },
          "metadata": {},
          "execution_count": 59
        }
      ]
    },
    {
      "cell_type": "markdown",
      "source": [
        "---> its in 10 min timesteps, unnamed:0 is our datetime"
      ],
      "metadata": {
        "id": "DeF1s4K95hC_"
      }
    },
    {
      "cell_type": "code",
      "source": [
        "data.info()"
      ],
      "metadata": {
        "id": "7rm1zA8TkKY4",
        "colab": {
          "base_uri": "https://localhost:8080/"
        },
        "outputId": "705950f2-d866-43a0-a093-56002557943d"
      },
      "execution_count": 60,
      "outputs": [
        {
          "output_type": "stream",
          "name": "stdout",
          "text": [
            "<class 'pandas.core.frame.DataFrame'>\n",
            "RangeIndex: 118224 entries, 0 to 118223\n",
            "Data columns (total 22 columns):\n",
            " #   Column                        Non-Null Count   Dtype              \n",
            "---  ------                        --------------   -----              \n",
            " 0   Unnamed: 0                    118224 non-null  datetime64[ns, UTC]\n",
            " 1   ActivePower                   94750 non-null   float64            \n",
            " 2   AmbientTemperatue             93817 non-null   float64            \n",
            " 3   BearingShaftTemperature       62518 non-null   float64            \n",
            " 4   Blade1PitchAngle              41996 non-null   float64            \n",
            " 5   Blade2PitchAngle              41891 non-null   float64            \n",
            " 6   Blade3PitchAngle              41891 non-null   float64            \n",
            " 7   ControlBoxTemperature         62160 non-null   float64            \n",
            " 8   GearboxBearingTemperature     62540 non-null   float64            \n",
            " 9   GearboxOilTemperature         62438 non-null   float64            \n",
            " 10  GeneratorRPM                  62295 non-null   float64            \n",
            " 11  GeneratorWinding1Temperature  62427 non-null   float64            \n",
            " 12  GeneratorWinding2Temperature  62449 non-null   float64            \n",
            " 13  HubTemperature                62406 non-null   float64            \n",
            " 14  MainBoxTemperature            62507 non-null   float64            \n",
            " 15  NacellePosition               72278 non-null   float64            \n",
            " 16  ReactivePower                 94748 non-null   float64            \n",
            " 17  RotorRPM                      62127 non-null   float64            \n",
            " 18  TurbineStatus                 62908 non-null   float64            \n",
            " 19  WTG                           118224 non-null  object             \n",
            " 20  WindDirection                 72278 non-null   float64            \n",
            " 21  WindSpeed                     94595 non-null   float64            \n",
            "dtypes: datetime64[ns, UTC](1), float64(20), object(1)\n",
            "memory usage: 19.8+ MB\n"
          ]
        }
      ]
    },
    {
      "cell_type": "code",
      "source": [
        "print(data.nunique(axis=0))"
      ],
      "metadata": {
        "colab": {
          "base_uri": "https://localhost:8080/"
        },
        "id": "6k50Ec995kpe",
        "outputId": "a10bde2c-64c4-4b59-c554-5af0ce1437c7"
      },
      "execution_count": 61,
      "outputs": [
        {
          "output_type": "stream",
          "name": "stdout",
          "text": [
            "Unnamed: 0                      118224\n",
            "ActivePower                      94084\n",
            "AmbientTemperatue                93678\n",
            "BearingShaftTemperature          62286\n",
            "Blade1PitchAngle                 38946\n",
            "Blade2PitchAngle                 39021\n",
            "Blade3PitchAngle                 39021\n",
            "ControlBoxTemperature                1\n",
            "GearboxBearingTemperature        62313\n",
            "GearboxOilTemperature            62412\n",
            "GeneratorRPM                     61074\n",
            "GeneratorWinding1Temperature     62406\n",
            "GeneratorWinding2Temperature     62424\n",
            "HubTemperature                   38119\n",
            "MainBoxTemperature               49145\n",
            "NacellePosition                   6664\n",
            "ReactivePower                    94040\n",
            "RotorRPM                         59254\n",
            "TurbineStatus                      353\n",
            "WTG                                  1\n",
            "WindDirection                     6664\n",
            "WindSpeed                        94224\n",
            "dtype: int64\n"
          ]
        }
      ]
    },
    {
      "cell_type": "code",
      "source": [
        "df = data.copy(deep=True) #create a copy of our data in a new df to work with"
      ],
      "metadata": {
        "id": "ODAcua-E6vKx"
      },
      "execution_count": 62,
      "outputs": []
    },
    {
      "cell_type": "code",
      "source": [
        "df.drop(columns=['WTG', 'ControlBoxTemperature'], inplace=True) #drop these columns WTG and ControlboxTemperature only have 1 unique value. We drop it here"
      ],
      "metadata": {
        "id": "GGFuCrTU7hJY"
      },
      "execution_count": 63,
      "outputs": []
    },
    {
      "cell_type": "code",
      "source": [
        "#df= df.rename(columns={'Unnamed: 0':'DateTime'})  #rename the datetime column to a better suited title\n",
        "df['DateTime'] = df['Unnamed: 0'] \n",
        "df.drop('Unnamed: 0', axis=1, inplace=True)\n",
        "\n",
        "#df['DateTime']=pd.to_datetime(df['Unnamed: 0'],format= '%Y-%m-%dT%H:%M:%SZ',errors='coerce')"
      ],
      "metadata": {
        "id": "MnZoLUCZ7iPz"
      },
      "execution_count": 64,
      "outputs": []
    },
    {
      "cell_type": "code",
      "source": [
        "df['DateTime'].head(20)"
      ],
      "metadata": {
        "colab": {
          "base_uri": "https://localhost:8080/"
        },
        "id": "qI90qtAVL_MK",
        "outputId": "d0519446-34d3-44b2-d671-281827809a3f"
      },
      "execution_count": 65,
      "outputs": [
        {
          "output_type": "execute_result",
          "data": {
            "text/plain": [
              "0    2017-12-31 00:00:00+00:00\n",
              "1    2017-12-31 00:10:00+00:00\n",
              "2    2017-12-31 00:20:00+00:00\n",
              "3    2017-12-31 00:30:00+00:00\n",
              "4    2017-12-31 00:40:00+00:00\n",
              "5    2017-12-31 00:50:00+00:00\n",
              "6    2017-12-31 01:00:00+00:00\n",
              "7    2017-12-31 01:10:00+00:00\n",
              "8    2017-12-31 01:20:00+00:00\n",
              "9    2017-12-31 01:30:00+00:00\n",
              "10   2017-12-31 01:40:00+00:00\n",
              "11   2017-12-31 01:50:00+00:00\n",
              "12   2017-12-31 02:00:00+00:00\n",
              "13   2017-12-31 02:10:00+00:00\n",
              "14   2017-12-31 02:20:00+00:00\n",
              "15   2017-12-31 02:30:00+00:00\n",
              "16   2017-12-31 02:40:00+00:00\n",
              "17   2017-12-31 02:50:00+00:00\n",
              "18   2017-12-31 03:00:00+00:00\n",
              "19   2017-12-31 03:10:00+00:00\n",
              "Name: DateTime, dtype: datetime64[ns, UTC]"
            ]
          },
          "metadata": {},
          "execution_count": 65
        }
      ]
    },
    {
      "cell_type": "code",
      "source": [
        "# Add datetime parameters \n",
        "df['DateTime'] = pd.to_datetime(df['DateTime'], \n",
        " format = '%Y-%m-%dT%H:%M:%SZ', \n",
        " errors = 'coerce')\n",
        "\n",
        "df['year'] = df['DateTime'].dt.year\n",
        "df['month'] = df['DateTime'].dt.month\n",
        "df['day'] = df['DateTime'].dt.day\n",
        "df['hour'] = df['DateTime'].dt.hour\n",
        "df['minute'] = df['DateTime'].dt.minute"
      ],
      "metadata": {
        "id": "7BCRVPAFL02b"
      },
      "execution_count": 66,
      "outputs": []
    },
    {
      "cell_type": "code",
      "source": [
        "# Drop original DateTime column\n",
        "df.drop('DateTime', axis=1, inplace= True)"
      ],
      "metadata": {
        "id": "08B-ydRxMutr"
      },
      "execution_count": 69,
      "outputs": []
    },
    {
      "cell_type": "code",
      "source": [
        "df.head()"
      ],
      "metadata": {
        "colab": {
          "base_uri": "https://localhost:8080/",
          "height": 0
        },
        "id": "eppdrkHp8cWX",
        "outputId": "65658d0b-09d7-4b88-e85f-46dee2c55bc0"
      },
      "execution_count": 70,
      "outputs": [
        {
          "output_type": "execute_result",
          "data": {
            "text/plain": [
              "   ActivePower  AmbientTemperatue  BearingShaftTemperature  Blade1PitchAngle  \\\n",
              "0          NaN                NaN                      NaN               NaN   \n",
              "1          NaN                NaN                      NaN               NaN   \n",
              "2          NaN                NaN                      NaN               NaN   \n",
              "3          NaN                NaN                      NaN               NaN   \n",
              "4          NaN                NaN                      NaN               NaN   \n",
              "\n",
              "   Blade2PitchAngle  Blade3PitchAngle  GearboxBearingTemperature  \\\n",
              "0               NaN               NaN                        NaN   \n",
              "1               NaN               NaN                        NaN   \n",
              "2               NaN               NaN                        NaN   \n",
              "3               NaN               NaN                        NaN   \n",
              "4               NaN               NaN                        NaN   \n",
              "\n",
              "   GearboxOilTemperature  GeneratorRPM  GeneratorWinding1Temperature  ...  \\\n",
              "0                    NaN           NaN                           NaN  ...   \n",
              "1                    NaN           NaN                           NaN  ...   \n",
              "2                    NaN           NaN                           NaN  ...   \n",
              "3                    NaN           NaN                           NaN  ...   \n",
              "4                    NaN           NaN                           NaN  ...   \n",
              "\n",
              "   ReactivePower  RotorRPM  TurbineStatus  WindDirection  WindSpeed  year  \\\n",
              "0            NaN       NaN            NaN            NaN        NaN  2017   \n",
              "1            NaN       NaN            NaN            NaN        NaN  2017   \n",
              "2            NaN       NaN            NaN            NaN        NaN  2017   \n",
              "3            NaN       NaN            NaN            NaN        NaN  2017   \n",
              "4            NaN       NaN            NaN            NaN        NaN  2017   \n",
              "\n",
              "   month  day  hour  minute  \n",
              "0     12   31     0       0  \n",
              "1     12   31     0      10  \n",
              "2     12   31     0      20  \n",
              "3     12   31     0      30  \n",
              "4     12   31     0      40  \n",
              "\n",
              "[5 rows x 24 columns]"
            ],
            "text/html": [
              "\n",
              "  <div id=\"df-f8bbe7a1-9dcf-4ebf-bd7a-d7237a6d407d\">\n",
              "    <div class=\"colab-df-container\">\n",
              "      <div>\n",
              "<style scoped>\n",
              "    .dataframe tbody tr th:only-of-type {\n",
              "        vertical-align: middle;\n",
              "    }\n",
              "\n",
              "    .dataframe tbody tr th {\n",
              "        vertical-align: top;\n",
              "    }\n",
              "\n",
              "    .dataframe thead th {\n",
              "        text-align: right;\n",
              "    }\n",
              "</style>\n",
              "<table border=\"1\" class=\"dataframe\">\n",
              "  <thead>\n",
              "    <tr style=\"text-align: right;\">\n",
              "      <th></th>\n",
              "      <th>ActivePower</th>\n",
              "      <th>AmbientTemperatue</th>\n",
              "      <th>BearingShaftTemperature</th>\n",
              "      <th>Blade1PitchAngle</th>\n",
              "      <th>Blade2PitchAngle</th>\n",
              "      <th>Blade3PitchAngle</th>\n",
              "      <th>GearboxBearingTemperature</th>\n",
              "      <th>GearboxOilTemperature</th>\n",
              "      <th>GeneratorRPM</th>\n",
              "      <th>GeneratorWinding1Temperature</th>\n",
              "      <th>...</th>\n",
              "      <th>ReactivePower</th>\n",
              "      <th>RotorRPM</th>\n",
              "      <th>TurbineStatus</th>\n",
              "      <th>WindDirection</th>\n",
              "      <th>WindSpeed</th>\n",
              "      <th>year</th>\n",
              "      <th>month</th>\n",
              "      <th>day</th>\n",
              "      <th>hour</th>\n",
              "      <th>minute</th>\n",
              "    </tr>\n",
              "  </thead>\n",
              "  <tbody>\n",
              "    <tr>\n",
              "      <th>0</th>\n",
              "      <td>NaN</td>\n",
              "      <td>NaN</td>\n",
              "      <td>NaN</td>\n",
              "      <td>NaN</td>\n",
              "      <td>NaN</td>\n",
              "      <td>NaN</td>\n",
              "      <td>NaN</td>\n",
              "      <td>NaN</td>\n",
              "      <td>NaN</td>\n",
              "      <td>NaN</td>\n",
              "      <td>...</td>\n",
              "      <td>NaN</td>\n",
              "      <td>NaN</td>\n",
              "      <td>NaN</td>\n",
              "      <td>NaN</td>\n",
              "      <td>NaN</td>\n",
              "      <td>2017</td>\n",
              "      <td>12</td>\n",
              "      <td>31</td>\n",
              "      <td>0</td>\n",
              "      <td>0</td>\n",
              "    </tr>\n",
              "    <tr>\n",
              "      <th>1</th>\n",
              "      <td>NaN</td>\n",
              "      <td>NaN</td>\n",
              "      <td>NaN</td>\n",
              "      <td>NaN</td>\n",
              "      <td>NaN</td>\n",
              "      <td>NaN</td>\n",
              "      <td>NaN</td>\n",
              "      <td>NaN</td>\n",
              "      <td>NaN</td>\n",
              "      <td>NaN</td>\n",
              "      <td>...</td>\n",
              "      <td>NaN</td>\n",
              "      <td>NaN</td>\n",
              "      <td>NaN</td>\n",
              "      <td>NaN</td>\n",
              "      <td>NaN</td>\n",
              "      <td>2017</td>\n",
              "      <td>12</td>\n",
              "      <td>31</td>\n",
              "      <td>0</td>\n",
              "      <td>10</td>\n",
              "    </tr>\n",
              "    <tr>\n",
              "      <th>2</th>\n",
              "      <td>NaN</td>\n",
              "      <td>NaN</td>\n",
              "      <td>NaN</td>\n",
              "      <td>NaN</td>\n",
              "      <td>NaN</td>\n",
              "      <td>NaN</td>\n",
              "      <td>NaN</td>\n",
              "      <td>NaN</td>\n",
              "      <td>NaN</td>\n",
              "      <td>NaN</td>\n",
              "      <td>...</td>\n",
              "      <td>NaN</td>\n",
              "      <td>NaN</td>\n",
              "      <td>NaN</td>\n",
              "      <td>NaN</td>\n",
              "      <td>NaN</td>\n",
              "      <td>2017</td>\n",
              "      <td>12</td>\n",
              "      <td>31</td>\n",
              "      <td>0</td>\n",
              "      <td>20</td>\n",
              "    </tr>\n",
              "    <tr>\n",
              "      <th>3</th>\n",
              "      <td>NaN</td>\n",
              "      <td>NaN</td>\n",
              "      <td>NaN</td>\n",
              "      <td>NaN</td>\n",
              "      <td>NaN</td>\n",
              "      <td>NaN</td>\n",
              "      <td>NaN</td>\n",
              "      <td>NaN</td>\n",
              "      <td>NaN</td>\n",
              "      <td>NaN</td>\n",
              "      <td>...</td>\n",
              "      <td>NaN</td>\n",
              "      <td>NaN</td>\n",
              "      <td>NaN</td>\n",
              "      <td>NaN</td>\n",
              "      <td>NaN</td>\n",
              "      <td>2017</td>\n",
              "      <td>12</td>\n",
              "      <td>31</td>\n",
              "      <td>0</td>\n",
              "      <td>30</td>\n",
              "    </tr>\n",
              "    <tr>\n",
              "      <th>4</th>\n",
              "      <td>NaN</td>\n",
              "      <td>NaN</td>\n",
              "      <td>NaN</td>\n",
              "      <td>NaN</td>\n",
              "      <td>NaN</td>\n",
              "      <td>NaN</td>\n",
              "      <td>NaN</td>\n",
              "      <td>NaN</td>\n",
              "      <td>NaN</td>\n",
              "      <td>NaN</td>\n",
              "      <td>...</td>\n",
              "      <td>NaN</td>\n",
              "      <td>NaN</td>\n",
              "      <td>NaN</td>\n",
              "      <td>NaN</td>\n",
              "      <td>NaN</td>\n",
              "      <td>2017</td>\n",
              "      <td>12</td>\n",
              "      <td>31</td>\n",
              "      <td>0</td>\n",
              "      <td>40</td>\n",
              "    </tr>\n",
              "  </tbody>\n",
              "</table>\n",
              "<p>5 rows × 24 columns</p>\n",
              "</div>\n",
              "      <button class=\"colab-df-convert\" onclick=\"convertToInteractive('df-f8bbe7a1-9dcf-4ebf-bd7a-d7237a6d407d')\"\n",
              "              title=\"Convert this dataframe to an interactive table.\"\n",
              "              style=\"display:none;\">\n",
              "        \n",
              "  <svg xmlns=\"http://www.w3.org/2000/svg\" height=\"24px\"viewBox=\"0 0 24 24\"\n",
              "       width=\"24px\">\n",
              "    <path d=\"M0 0h24v24H0V0z\" fill=\"none\"/>\n",
              "    <path d=\"M18.56 5.44l.94 2.06.94-2.06 2.06-.94-2.06-.94-.94-2.06-.94 2.06-2.06.94zm-11 1L8.5 8.5l.94-2.06 2.06-.94-2.06-.94L8.5 2.5l-.94 2.06-2.06.94zm10 10l.94 2.06.94-2.06 2.06-.94-2.06-.94-.94-2.06-.94 2.06-2.06.94z\"/><path d=\"M17.41 7.96l-1.37-1.37c-.4-.4-.92-.59-1.43-.59-.52 0-1.04.2-1.43.59L10.3 9.45l-7.72 7.72c-.78.78-.78 2.05 0 2.83L4 21.41c.39.39.9.59 1.41.59.51 0 1.02-.2 1.41-.59l7.78-7.78 2.81-2.81c.8-.78.8-2.07 0-2.86zM5.41 20L4 18.59l7.72-7.72 1.47 1.35L5.41 20z\"/>\n",
              "  </svg>\n",
              "      </button>\n",
              "      \n",
              "  <style>\n",
              "    .colab-df-container {\n",
              "      display:flex;\n",
              "      flex-wrap:wrap;\n",
              "      gap: 12px;\n",
              "    }\n",
              "\n",
              "    .colab-df-convert {\n",
              "      background-color: #E8F0FE;\n",
              "      border: none;\n",
              "      border-radius: 50%;\n",
              "      cursor: pointer;\n",
              "      display: none;\n",
              "      fill: #1967D2;\n",
              "      height: 32px;\n",
              "      padding: 0 0 0 0;\n",
              "      width: 32px;\n",
              "    }\n",
              "\n",
              "    .colab-df-convert:hover {\n",
              "      background-color: #E2EBFA;\n",
              "      box-shadow: 0px 1px 2px rgba(60, 64, 67, 0.3), 0px 1px 3px 1px rgba(60, 64, 67, 0.15);\n",
              "      fill: #174EA6;\n",
              "    }\n",
              "\n",
              "    [theme=dark] .colab-df-convert {\n",
              "      background-color: #3B4455;\n",
              "      fill: #D2E3FC;\n",
              "    }\n",
              "\n",
              "    [theme=dark] .colab-df-convert:hover {\n",
              "      background-color: #434B5C;\n",
              "      box-shadow: 0px 1px 3px 1px rgba(0, 0, 0, 0.15);\n",
              "      filter: drop-shadow(0px 1px 2px rgba(0, 0, 0, 0.3));\n",
              "      fill: #FFFFFF;\n",
              "    }\n",
              "  </style>\n",
              "\n",
              "      <script>\n",
              "        const buttonEl =\n",
              "          document.querySelector('#df-f8bbe7a1-9dcf-4ebf-bd7a-d7237a6d407d button.colab-df-convert');\n",
              "        buttonEl.style.display =\n",
              "          google.colab.kernel.accessAllowed ? 'block' : 'none';\n",
              "\n",
              "        async function convertToInteractive(key) {\n",
              "          const element = document.querySelector('#df-f8bbe7a1-9dcf-4ebf-bd7a-d7237a6d407d');\n",
              "          const dataTable =\n",
              "            await google.colab.kernel.invokeFunction('convertToInteractive',\n",
              "                                                     [key], {});\n",
              "          if (!dataTable) return;\n",
              "\n",
              "          const docLinkHtml = 'Like what you see? Visit the ' +\n",
              "            '<a target=\"_blank\" href=https://colab.research.google.com/notebooks/data_table.ipynb>data table notebook</a>'\n",
              "            + ' to learn more about interactive tables.';\n",
              "          element.innerHTML = '';\n",
              "          dataTable['output_type'] = 'display_data';\n",
              "          await google.colab.output.renderOutput(dataTable, element);\n",
              "          const docLink = document.createElement('div');\n",
              "          docLink.innerHTML = docLinkHtml;\n",
              "          element.appendChild(docLink);\n",
              "        }\n",
              "      </script>\n",
              "    </div>\n",
              "  </div>\n",
              "  "
            ]
          },
          "metadata": {},
          "execution_count": 70
        }
      ]
    },
    {
      "cell_type": "code",
      "source": [
        "df.info()"
      ],
      "metadata": {
        "colab": {
          "base_uri": "https://localhost:8080/"
        },
        "id": "uDuLsz5j8d2g",
        "outputId": "30698cb2-f0dc-4a11-8396-31af8b46438b"
      },
      "execution_count": 46,
      "outputs": [
        {
          "output_type": "stream",
          "name": "stdout",
          "text": [
            "<class 'pandas.core.frame.DataFrame'>\n",
            "RangeIndex: 118224 entries, 0 to 118223\n",
            "Data columns (total 21 columns):\n",
            " #   Column                        Non-Null Count   Dtype         \n",
            "---  ------                        --------------   -----         \n",
            " 0   Unnamed: 0                    118224 non-null  object        \n",
            " 1   ActivePower                   94750 non-null   float64       \n",
            " 2   AmbientTemperatue             93817 non-null   float64       \n",
            " 3   BearingShaftTemperature       62518 non-null   float64       \n",
            " 4   Blade1PitchAngle              41996 non-null   float64       \n",
            " 5   Blade2PitchAngle              41891 non-null   float64       \n",
            " 6   Blade3PitchAngle              41891 non-null   float64       \n",
            " 7   GearboxBearingTemperature     62540 non-null   float64       \n",
            " 8   GearboxOilTemperature         62438 non-null   float64       \n",
            " 9   GeneratorRPM                  62295 non-null   float64       \n",
            " 10  GeneratorWinding1Temperature  62427 non-null   float64       \n",
            " 11  GeneratorWinding2Temperature  62449 non-null   float64       \n",
            " 12  HubTemperature                62406 non-null   float64       \n",
            " 13  MainBoxTemperature            62507 non-null   float64       \n",
            " 14  NacellePosition               72278 non-null   float64       \n",
            " 15  ReactivePower                 94748 non-null   float64       \n",
            " 16  RotorRPM                      62127 non-null   float64       \n",
            " 17  TurbineStatus                 62908 non-null   float64       \n",
            " 18  WindDirection                 72278 non-null   float64       \n",
            " 19  WindSpeed                     94595 non-null   float64       \n",
            " 20  DateTime                      0 non-null       datetime64[ns]\n",
            "dtypes: datetime64[ns](1), float64(19), object(1)\n",
            "memory usage: 18.9+ MB\n"
          ]
        }
      ]
    },
    {
      "cell_type": "markdown",
      "source": [
        "## Dealing with null/missing values"
      ],
      "metadata": {
        "id": "61ccjZNu_3oT"
      }
    },
    {
      "cell_type": "code",
      "source": [
        "df.isna().sum() #sum up the missing values for each column"
      ],
      "metadata": {
        "colab": {
          "base_uri": "https://localhost:8080/"
        },
        "id": "yb1AS2rXJTGJ",
        "outputId": "c85d14b4-b2ce-4577-8549-86c11a76ff3e"
      },
      "execution_count": 71,
      "outputs": [
        {
          "output_type": "execute_result",
          "data": {
            "text/plain": [
              "ActivePower                     23474\n",
              "AmbientTemperatue               24407\n",
              "BearingShaftTemperature         55706\n",
              "Blade1PitchAngle                76228\n",
              "Blade2PitchAngle                76333\n",
              "Blade3PitchAngle                76333\n",
              "GearboxBearingTemperature       55684\n",
              "GearboxOilTemperature           55786\n",
              "GeneratorRPM                    55929\n",
              "GeneratorWinding1Temperature    55797\n",
              "GeneratorWinding2Temperature    55775\n",
              "HubTemperature                  55818\n",
              "MainBoxTemperature              55717\n",
              "NacellePosition                 45946\n",
              "ReactivePower                   23476\n",
              "RotorRPM                        56097\n",
              "TurbineStatus                   55316\n",
              "WindDirection                   45946\n",
              "WindSpeed                       23629\n",
              "year                                0\n",
              "month                               0\n",
              "day                                 0\n",
              "hour                                0\n",
              "minute                              0\n",
              "dtype: int64"
            ]
          },
          "metadata": {},
          "execution_count": 71
        }
      ]
    },
    {
      "cell_type": "code",
      "source": [
        "# lets start by just filling missing values with the median\n",
        "\n",
        "for label, content in df.items():                                               # df.items lets us iterate over column name, series --> returns a tuple with column name and the content as a series\n",
        "    if pd.api.types.is_numeric_dtype(content):                                  # Check whether the provided array or dtype is of a numeric dtype.\n",
        "        if pd.isnull(content).sum():\n",
        "            # Add a binary column which tells if the data was missing our not\n",
        "            df[label+\"_is_missing\"] = pd.isnull(content)\n",
        "            # Fill missing numeric values with median since it's more robust than the mean\n",
        "            df[label] = content.fillna(content.median())\n"
      ],
      "metadata": {
        "id": "LoDyyLMZM25k"
      },
      "execution_count": 73,
      "outputs": []
    },
    {
      "cell_type": "code",
      "source": [
        "df.head(1)"
      ],
      "metadata": {
        "colab": {
          "base_uri": "https://localhost:8080/",
          "height": 174
        },
        "id": "Xd2KwruwUqdn",
        "outputId": "af59f7e4-fbe6-4b25-bf5b-cd51a3fbc8f1"
      },
      "execution_count": 76,
      "outputs": [
        {
          "output_type": "execute_result",
          "data": {
            "text/plain": [
              "   ActivePower  AmbientTemperatue  BearingShaftTemperature  Blade1PitchAngle  \\\n",
              "0   402.654893          28.340541                42.910877          0.394399   \n",
              "\n",
              "   Blade2PitchAngle  Blade3PitchAngle  GearboxBearingTemperature  \\\n",
              "0          0.888977          0.888977                  64.834662   \n",
              "\n",
              "   GearboxOilTemperature  GeneratorRPM  GeneratorWinding1Temperature  ...  \\\n",
              "0              57.196089    1124.86072                       65.7888  ...   \n",
              "\n",
              "   GeneratorWinding1Temperature_is_missing  \\\n",
              "0                                     True   \n",
              "\n",
              "   GeneratorWinding2Temperature_is_missing  HubTemperature_is_missing  \\\n",
              "0                                     True                       True   \n",
              "\n",
              "   MainBoxTemperature_is_missing  NacellePosition_is_missing  \\\n",
              "0                           True                        True   \n",
              "\n",
              "   ReactivePower_is_missing  RotorRPM_is_missing  TurbineStatus_is_missing  \\\n",
              "0                      True                 True                      True   \n",
              "\n",
              "   WindDirection_is_missing  WindSpeed_is_missing  \n",
              "0                      True                  True  \n",
              "\n",
              "[1 rows x 43 columns]"
            ],
            "text/html": [
              "\n",
              "  <div id=\"df-1972ba27-94ff-4a28-90ed-01115db73ac0\">\n",
              "    <div class=\"colab-df-container\">\n",
              "      <div>\n",
              "<style scoped>\n",
              "    .dataframe tbody tr th:only-of-type {\n",
              "        vertical-align: middle;\n",
              "    }\n",
              "\n",
              "    .dataframe tbody tr th {\n",
              "        vertical-align: top;\n",
              "    }\n",
              "\n",
              "    .dataframe thead th {\n",
              "        text-align: right;\n",
              "    }\n",
              "</style>\n",
              "<table border=\"1\" class=\"dataframe\">\n",
              "  <thead>\n",
              "    <tr style=\"text-align: right;\">\n",
              "      <th></th>\n",
              "      <th>ActivePower</th>\n",
              "      <th>AmbientTemperatue</th>\n",
              "      <th>BearingShaftTemperature</th>\n",
              "      <th>Blade1PitchAngle</th>\n",
              "      <th>Blade2PitchAngle</th>\n",
              "      <th>Blade3PitchAngle</th>\n",
              "      <th>GearboxBearingTemperature</th>\n",
              "      <th>GearboxOilTemperature</th>\n",
              "      <th>GeneratorRPM</th>\n",
              "      <th>GeneratorWinding1Temperature</th>\n",
              "      <th>...</th>\n",
              "      <th>GeneratorWinding1Temperature_is_missing</th>\n",
              "      <th>GeneratorWinding2Temperature_is_missing</th>\n",
              "      <th>HubTemperature_is_missing</th>\n",
              "      <th>MainBoxTemperature_is_missing</th>\n",
              "      <th>NacellePosition_is_missing</th>\n",
              "      <th>ReactivePower_is_missing</th>\n",
              "      <th>RotorRPM_is_missing</th>\n",
              "      <th>TurbineStatus_is_missing</th>\n",
              "      <th>WindDirection_is_missing</th>\n",
              "      <th>WindSpeed_is_missing</th>\n",
              "    </tr>\n",
              "  </thead>\n",
              "  <tbody>\n",
              "    <tr>\n",
              "      <th>0</th>\n",
              "      <td>402.654893</td>\n",
              "      <td>28.340541</td>\n",
              "      <td>42.910877</td>\n",
              "      <td>0.394399</td>\n",
              "      <td>0.888977</td>\n",
              "      <td>0.888977</td>\n",
              "      <td>64.834662</td>\n",
              "      <td>57.196089</td>\n",
              "      <td>1124.86072</td>\n",
              "      <td>65.7888</td>\n",
              "      <td>...</td>\n",
              "      <td>True</td>\n",
              "      <td>True</td>\n",
              "      <td>True</td>\n",
              "      <td>True</td>\n",
              "      <td>True</td>\n",
              "      <td>True</td>\n",
              "      <td>True</td>\n",
              "      <td>True</td>\n",
              "      <td>True</td>\n",
              "      <td>True</td>\n",
              "    </tr>\n",
              "  </tbody>\n",
              "</table>\n",
              "<p>1 rows × 43 columns</p>\n",
              "</div>\n",
              "      <button class=\"colab-df-convert\" onclick=\"convertToInteractive('df-1972ba27-94ff-4a28-90ed-01115db73ac0')\"\n",
              "              title=\"Convert this dataframe to an interactive table.\"\n",
              "              style=\"display:none;\">\n",
              "        \n",
              "  <svg xmlns=\"http://www.w3.org/2000/svg\" height=\"24px\"viewBox=\"0 0 24 24\"\n",
              "       width=\"24px\">\n",
              "    <path d=\"M0 0h24v24H0V0z\" fill=\"none\"/>\n",
              "    <path d=\"M18.56 5.44l.94 2.06.94-2.06 2.06-.94-2.06-.94-.94-2.06-.94 2.06-2.06.94zm-11 1L8.5 8.5l.94-2.06 2.06-.94-2.06-.94L8.5 2.5l-.94 2.06-2.06.94zm10 10l.94 2.06.94-2.06 2.06-.94-2.06-.94-.94-2.06-.94 2.06-2.06.94z\"/><path d=\"M17.41 7.96l-1.37-1.37c-.4-.4-.92-.59-1.43-.59-.52 0-1.04.2-1.43.59L10.3 9.45l-7.72 7.72c-.78.78-.78 2.05 0 2.83L4 21.41c.39.39.9.59 1.41.59.51 0 1.02-.2 1.41-.59l7.78-7.78 2.81-2.81c.8-.78.8-2.07 0-2.86zM5.41 20L4 18.59l7.72-7.72 1.47 1.35L5.41 20z\"/>\n",
              "  </svg>\n",
              "      </button>\n",
              "      \n",
              "  <style>\n",
              "    .colab-df-container {\n",
              "      display:flex;\n",
              "      flex-wrap:wrap;\n",
              "      gap: 12px;\n",
              "    }\n",
              "\n",
              "    .colab-df-convert {\n",
              "      background-color: #E8F0FE;\n",
              "      border: none;\n",
              "      border-radius: 50%;\n",
              "      cursor: pointer;\n",
              "      display: none;\n",
              "      fill: #1967D2;\n",
              "      height: 32px;\n",
              "      padding: 0 0 0 0;\n",
              "      width: 32px;\n",
              "    }\n",
              "\n",
              "    .colab-df-convert:hover {\n",
              "      background-color: #E2EBFA;\n",
              "      box-shadow: 0px 1px 2px rgba(60, 64, 67, 0.3), 0px 1px 3px 1px rgba(60, 64, 67, 0.15);\n",
              "      fill: #174EA6;\n",
              "    }\n",
              "\n",
              "    [theme=dark] .colab-df-convert {\n",
              "      background-color: #3B4455;\n",
              "      fill: #D2E3FC;\n",
              "    }\n",
              "\n",
              "    [theme=dark] .colab-df-convert:hover {\n",
              "      background-color: #434B5C;\n",
              "      box-shadow: 0px 1px 3px 1px rgba(0, 0, 0, 0.15);\n",
              "      filter: drop-shadow(0px 1px 2px rgba(0, 0, 0, 0.3));\n",
              "      fill: #FFFFFF;\n",
              "    }\n",
              "  </style>\n",
              "\n",
              "      <script>\n",
              "        const buttonEl =\n",
              "          document.querySelector('#df-1972ba27-94ff-4a28-90ed-01115db73ac0 button.colab-df-convert');\n",
              "        buttonEl.style.display =\n",
              "          google.colab.kernel.accessAllowed ? 'block' : 'none';\n",
              "\n",
              "        async function convertToInteractive(key) {\n",
              "          const element = document.querySelector('#df-1972ba27-94ff-4a28-90ed-01115db73ac0');\n",
              "          const dataTable =\n",
              "            await google.colab.kernel.invokeFunction('convertToInteractive',\n",
              "                                                     [key], {});\n",
              "          if (!dataTable) return;\n",
              "\n",
              "          const docLinkHtml = 'Like what you see? Visit the ' +\n",
              "            '<a target=\"_blank\" href=https://colab.research.google.com/notebooks/data_table.ipynb>data table notebook</a>'\n",
              "            + ' to learn more about interactive tables.';\n",
              "          element.innerHTML = '';\n",
              "          dataTable['output_type'] = 'display_data';\n",
              "          await google.colab.output.renderOutput(dataTable, element);\n",
              "          const docLink = document.createElement('div');\n",
              "          docLink.innerHTML = docLinkHtml;\n",
              "          element.appendChild(docLink);\n",
              "        }\n",
              "      </script>\n",
              "    </div>\n",
              "  </div>\n",
              "  "
            ]
          },
          "metadata": {},
          "execution_count": 76
        }
      ]
    },
    {
      "cell_type": "code",
      "source": [
        "df.isna().sum()"
      ],
      "metadata": {
        "colab": {
          "base_uri": "https://localhost:8080/"
        },
        "id": "LXI4R_tTUsFQ",
        "outputId": "0ddc7ecd-7b74-4957-899c-87a3c5264569"
      },
      "execution_count": 75,
      "outputs": [
        {
          "output_type": "execute_result",
          "data": {
            "text/plain": [
              "ActivePower                                0\n",
              "AmbientTemperatue                          0\n",
              "BearingShaftTemperature                    0\n",
              "Blade1PitchAngle                           0\n",
              "Blade2PitchAngle                           0\n",
              "Blade3PitchAngle                           0\n",
              "GearboxBearingTemperature                  0\n",
              "GearboxOilTemperature                      0\n",
              "GeneratorRPM                               0\n",
              "GeneratorWinding1Temperature               0\n",
              "GeneratorWinding2Temperature               0\n",
              "HubTemperature                             0\n",
              "MainBoxTemperature                         0\n",
              "NacellePosition                            0\n",
              "ReactivePower                              0\n",
              "RotorRPM                                   0\n",
              "TurbineStatus                              0\n",
              "WindDirection                              0\n",
              "WindSpeed                                  0\n",
              "year                                       0\n",
              "month                                      0\n",
              "day                                        0\n",
              "hour                                       0\n",
              "minute                                     0\n",
              "ActivePower_is_missing                     0\n",
              "AmbientTemperatue_is_missing               0\n",
              "BearingShaftTemperature_is_missing         0\n",
              "Blade1PitchAngle_is_missing                0\n",
              "Blade2PitchAngle_is_missing                0\n",
              "Blade3PitchAngle_is_missing                0\n",
              "GearboxBearingTemperature_is_missing       0\n",
              "GearboxOilTemperature_is_missing           0\n",
              "GeneratorRPM_is_missing                    0\n",
              "GeneratorWinding1Temperature_is_missing    0\n",
              "GeneratorWinding2Temperature_is_missing    0\n",
              "HubTemperature_is_missing                  0\n",
              "MainBoxTemperature_is_missing              0\n",
              "NacellePosition_is_missing                 0\n",
              "ReactivePower_is_missing                   0\n",
              "RotorRPM_is_missing                        0\n",
              "TurbineStatus_is_missing                   0\n",
              "WindDirection_is_missing                   0\n",
              "WindSpeed_is_missing                       0\n",
              "dtype: int64"
            ]
          },
          "metadata": {},
          "execution_count": 75
        }
      ]
    },
    {
      "cell_type": "code",
      "source": [
        "#### Testing for Stationarity\n",
        "\n",
        "from statsmodels.tsa.stattools import adfuller\n",
        "test_result=adfuller(df['ActivePower'])\n",
        "#H0 it is non stationary\n",
        "#H1 it is stationary\n",
        "\n",
        "\n",
        "def adfuller_test(Power):\n",
        "  result=adfuller(Power)\n",
        "  labels=['ADF Test Statistic','p-value','#Lags Used','Number of Observations Used']\n",
        "  for value,label in zip(result,labels):\n",
        "      print(label+' : '+str(value) )\n",
        "  if result[1] <= 0.05:\n",
        "      print(\"strong evidence against the null hypothesis(Ho), reject the null hypothesis. Data has no unit root and is stationary\")\n",
        "  else:\n",
        "      print(\"weak evidence against null hypothesis, time series has a unit root, indicating it is non-stationary \")\n",
        "        \n",
        "adfuller_test(df['ActivePower'])"
      ],
      "metadata": {
        "colab": {
          "base_uri": "https://localhost:8080/"
        },
        "id": "l9-JciOgU4M_",
        "outputId": "4ef84ad4-a133-422a-c440-1cf37ff4fdbf"
      },
      "execution_count": 77,
      "outputs": [
        {
          "output_type": "stream",
          "name": "stdout",
          "text": [
            "ADF Test Statistic : -21.001664058258637\n",
            "p-value : 0.0\n",
            "#Lags Used : 71\n",
            "Number of Observations Used : 118152\n",
            "strong evidence against the null hypothesis(Ho), reject the null hypothesis. Data has no unit root and is stationary\n"
          ]
        }
      ]
    },
    {
      "cell_type": "code",
      "source": [],
      "metadata": {
        "id": "BqJw3NxTXb8_"
      },
      "execution_count": null,
      "outputs": []
    },
    {
      "cell_type": "markdown",
      "source": [
        "## Exploration"
      ],
      "metadata": {
        "id": "k7FXnTUVda6w"
      }
    },
    {
      "cell_type": "code",
      "source": [
        "import matplotlib.pyplot as plt\n",
        "import statsmodels.api as sm"
      ],
      "metadata": {
        "id": "VYLpOafqddir"
      },
      "execution_count": 78,
      "outputs": []
    },
    {
      "cell_type": "code",
      "source": [
        "#Analysis of ACF and PACF \n",
        "fig = plt.figure(figsize=(10,6))\n",
        "ax1 = fig.add_subplot(211)\n",
        "fig = sm.graphics.tsa.plot_acf(df['ActivePower'], lags=30, ax=ax1)\n",
        "ax2 = fig.add_subplot(212)\n",
        "fig = sm.graphics.tsa.plot_pacf(df['ActivePower'], lags=30, ax=ax2)\n",
        "plt.xlabel('Time lag')\n",
        "plt.show()"
      ],
      "metadata": {
        "colab": {
          "base_uri": "https://localhost:8080/",
          "height": 404
        },
        "id": "xR-xPriSlXZg",
        "outputId": "2c5ae144-e0b8-49fc-f27c-e710626cd690"
      },
      "execution_count": 79,
      "outputs": [
        {
          "output_type": "display_data",
          "data": {
            "text/plain": [
              "<Figure size 720x432 with 2 Axes>"
            ],
            "image/png": "[encoded data removed]"
          },
          "metadata": {
            "needs_background": "light"
          }
        }
      ]
    },
    {
      "cell_type": "code",
      "source": [],
      "metadata": {
        "id": "rIfFvWKalYa2"
      },
      "execution_count": null,
      "outputs": []
    }
  ]
}