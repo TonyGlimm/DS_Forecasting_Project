{
  "nbformat": 4,
  "nbformat_minor": 0,
  "metadata": {
    "colab": {
      "provenance": [],
      "authorship_tag": "ABX9TyPbLflyZfqhhuYpx6DbfAdS"
    },
    "kernelspec": {
      "name": "python3",
      "display_name": "Python 3"
    },
    "language_info": {
      "name": "python"
    }
  },
  "cells": [
    {
      "cell_type": "markdown",
      "source": [
        "## Libraries import"
      ],
      "metadata": {
        "id": "RERvL3MR_-f6"
      }
    },
    {
      "cell_type": "code",
      "execution_count": 2,
      "metadata": {
        "colab": {
          "base_uri": "https://localhost:8080/"
        },
        "id": "00Z7yKLYjZHN",
        "outputId": "0bb645db-4dfe-42eb-98c0-3ce273e2cc29"
      },
      "outputs": [
        {
          "output_type": "stream",
          "name": "stdout",
          "text": [
            "Mounted at drive\n"
          ]
        }
      ],
      "source": [
        "import datetime\n",
        "\n",
        "import pandas as pd\n",
        "import seaborn as sns\n",
        "import numpy as np\n",
        "\n",
        "from google.colab import drive\n",
        "drive.mount('drive', force_remount=True)"
      ]
    },
    {
      "cell_type": "markdown",
      "source": [
        "## Reading data"
      ],
      "metadata": {
        "id": "4pRJC5xVAFUU"
      }
    },
    {
      "cell_type": "code",
      "source": [
        "data =pd.read_csv('drive/My Drive/Colab Notebooks/data_wind/turbine_data.csv', parse_dates=[\"Unnamed: 0\"]) #dont forget parse_dates"
      ],
      "metadata": {
        "id": "8_3EWg1_jj7s"
      },
      "execution_count": 3,
      "outputs": []
    },
    {
      "cell_type": "code",
      "source": [
        "#data.head()\n",
        "data.tail()"
      ],
      "metadata": {
        "colab": {
          "base_uri": "https://localhost:8080/",
          "height": 357
        },
        "id": "A6C9jWEvj-9y",
        "outputId": "c09b408c-14a8-419b-e32e-fa0d2155e7a5"
      },
      "execution_count": 4,
      "outputs": [
        {
          "output_type": "execute_result",
          "data": {
            "text/plain": [
              "                      Unnamed: 0  ActivePower  ...  WindDirection  WindSpeed\n",
              "118219 2020-03-30 23:10:00+00:00    70.044465  ...          178.0   3.533445\n",
              "118220 2020-03-30 23:20:00+00:00    40.833474  ...          178.0   3.261231\n",
              "118221 2020-03-30 23:30:00+00:00    20.777790  ...          178.0   3.331839\n",
              "118222 2020-03-30 23:40:00+00:00    62.091039  ...          190.0   3.284468\n",
              "118223 2020-03-30 23:50:00+00:00    68.664425  ...          203.0   3.475205\n",
              "\n",
              "[5 rows x 22 columns]"
            ],
            "text/html": [
              "\n",
              "  <div id=\"df-b12321a1-a124-4710-8472-416ddff37cda\">\n",
              "    <div class=\"colab-df-container\">\n",
              "      <div>\n",
              "<style scoped>\n",
              "    .dataframe tbody tr th:only-of-type {\n",
              "        vertical-align: middle;\n",
              "    }\n",
              "\n",
              "    .dataframe tbody tr th {\n",
              "        vertical-align: top;\n",
              "    }\n",
              "\n",
              "    .dataframe thead th {\n",
              "        text-align: right;\n",
              "    }\n",
              "</style>\n",
              "<table border=\"1\" class=\"dataframe\">\n",
              "  <thead>\n",
              "    <tr style=\"text-align: right;\">\n",
              "      <th></th>\n",
              "      <th>Unnamed: 0</th>\n",
              "      <th>ActivePower</th>\n",
              "      <th>AmbientTemperatue</th>\n",
              "      <th>BearingShaftTemperature</th>\n",
              "      <th>Blade1PitchAngle</th>\n",
              "      <th>Blade2PitchAngle</th>\n",
              "      <th>Blade3PitchAngle</th>\n",
              "      <th>ControlBoxTemperature</th>\n",
              "      <th>GearboxBearingTemperature</th>\n",
              "      <th>GearboxOilTemperature</th>\n",
              "      <th>GeneratorRPM</th>\n",
              "      <th>GeneratorWinding1Temperature</th>\n",
              "      <th>GeneratorWinding2Temperature</th>\n",
              "      <th>HubTemperature</th>\n",
              "      <th>MainBoxTemperature</th>\n",
              "      <th>NacellePosition</th>\n",
              "      <th>ReactivePower</th>\n",
              "      <th>RotorRPM</th>\n",
              "      <th>TurbineStatus</th>\n",
              "      <th>WTG</th>\n",
              "      <th>WindDirection</th>\n",
              "      <th>WindSpeed</th>\n",
              "    </tr>\n",
              "  </thead>\n",
              "  <tbody>\n",
              "    <tr>\n",
              "      <th>118219</th>\n",
              "      <td>2020-03-30 23:10:00+00:00</td>\n",
              "      <td>70.044465</td>\n",
              "      <td>27.523741</td>\n",
              "      <td>45.711129</td>\n",
              "      <td>1.515669</td>\n",
              "      <td>1.950088</td>\n",
              "      <td>1.950088</td>\n",
              "      <td>0.0</td>\n",
              "      <td>59.821165</td>\n",
              "      <td>55.193793</td>\n",
              "      <td>1029.870744</td>\n",
              "      <td>59.060367</td>\n",
              "      <td>58.148777</td>\n",
              "      <td>39.008931</td>\n",
              "      <td>36.476562</td>\n",
              "      <td>178.0</td>\n",
              "      <td>13.775785</td>\n",
              "      <td>9.234004</td>\n",
              "      <td>2.0</td>\n",
              "      <td>G01</td>\n",
              "      <td>178.0</td>\n",
              "      <td>3.533445</td>\n",
              "    </tr>\n",
              "    <tr>\n",
              "      <th>118220</th>\n",
              "      <td>2020-03-30 23:20:00+00:00</td>\n",
              "      <td>40.833474</td>\n",
              "      <td>27.602882</td>\n",
              "      <td>45.598573</td>\n",
              "      <td>1.702809</td>\n",
              "      <td>2.136732</td>\n",
              "      <td>2.136732</td>\n",
              "      <td>0.0</td>\n",
              "      <td>59.142038</td>\n",
              "      <td>54.798545</td>\n",
              "      <td>1030.160478</td>\n",
              "      <td>58.452003</td>\n",
              "      <td>57.550367</td>\n",
              "      <td>39.006759</td>\n",
              "      <td>36.328125</td>\n",
              "      <td>178.0</td>\n",
              "      <td>8.088928</td>\n",
              "      <td>9.229370</td>\n",
              "      <td>2.0</td>\n",
              "      <td>G01</td>\n",
              "      <td>178.0</td>\n",
              "      <td>3.261231</td>\n",
              "    </tr>\n",
              "    <tr>\n",
              "      <th>118221</th>\n",
              "      <td>2020-03-30 23:30:00+00:00</td>\n",
              "      <td>20.777790</td>\n",
              "      <td>27.560925</td>\n",
              "      <td>45.462045</td>\n",
              "      <td>1.706214</td>\n",
              "      <td>2.139664</td>\n",
              "      <td>2.139664</td>\n",
              "      <td>0.0</td>\n",
              "      <td>58.439439</td>\n",
              "      <td>54.380456</td>\n",
              "      <td>1030.137822</td>\n",
              "      <td>58.034071</td>\n",
              "      <td>57.099335</td>\n",
              "      <td>39.003815</td>\n",
              "      <td>36.131944</td>\n",
              "      <td>178.0</td>\n",
              "      <td>4.355978</td>\n",
              "      <td>9.236802</td>\n",
              "      <td>2.0</td>\n",
              "      <td>G01</td>\n",
              "      <td>178.0</td>\n",
              "      <td>3.331839</td>\n",
              "    </tr>\n",
              "    <tr>\n",
              "      <th>118222</th>\n",
              "      <td>2020-03-30 23:40:00+00:00</td>\n",
              "      <td>62.091039</td>\n",
              "      <td>27.810472</td>\n",
              "      <td>45.343827</td>\n",
              "      <td>1.575352</td>\n",
              "      <td>2.009781</td>\n",
              "      <td>2.009781</td>\n",
              "      <td>0.0</td>\n",
              "      <td>58.205413</td>\n",
              "      <td>54.079014</td>\n",
              "      <td>1030.178178</td>\n",
              "      <td>57.795387</td>\n",
              "      <td>56.847239</td>\n",
              "      <td>39.003815</td>\n",
              "      <td>36.007805</td>\n",
              "      <td>190.0</td>\n",
              "      <td>12.018077</td>\n",
              "      <td>9.237374</td>\n",
              "      <td>2.0</td>\n",
              "      <td>G01</td>\n",
              "      <td>190.0</td>\n",
              "      <td>3.284468</td>\n",
              "    </tr>\n",
              "    <tr>\n",
              "      <th>118223</th>\n",
              "      <td>2020-03-30 23:50:00+00:00</td>\n",
              "      <td>68.664425</td>\n",
              "      <td>27.915828</td>\n",
              "      <td>45.231610</td>\n",
              "      <td>1.499323</td>\n",
              "      <td>1.933124</td>\n",
              "      <td>1.933124</td>\n",
              "      <td>0.0</td>\n",
              "      <td>58.581716</td>\n",
              "      <td>54.080505</td>\n",
              "      <td>1029.834789</td>\n",
              "      <td>57.694813</td>\n",
              "      <td>56.741040</td>\n",
              "      <td>39.003815</td>\n",
              "      <td>35.914062</td>\n",
              "      <td>203.0</td>\n",
              "      <td>14.439669</td>\n",
              "      <td>9.235532</td>\n",
              "      <td>2.0</td>\n",
              "      <td>G01</td>\n",
              "      <td>203.0</td>\n",
              "      <td>3.475205</td>\n",
              "    </tr>\n",
              "  </tbody>\n",
              "</table>\n",
              "</div>\n",
              "      <button class=\"colab-df-convert\" onclick=\"convertToInteractive('df-b12321a1-a124-4710-8472-416ddff37cda')\"\n",
              "              title=\"Convert this dataframe to an interactive table.\"\n",
              "              style=\"display:none;\">\n",
              "        \n",
              "  <svg xmlns=\"http://www.w3.org/2000/svg\" height=\"24px\"viewBox=\"0 0 24 24\"\n",
              "       width=\"24px\">\n",
              "    <path d=\"M0 0h24v24H0V0z\" fill=\"none\"/>\n",
              "    <path d=\"M18.56 5.44l.94 2.06.94-2.06 2.06-.94-2.06-.94-.94-2.06-.94 2.06-2.06.94zm-11 1L8.5 8.5l.94-2.06 2.06-.94-2.06-.94L8.5 2.5l-.94 2.06-2.06.94zm10 10l.94 2.06.94-2.06 2.06-.94-2.06-.94-.94-2.06-.94 2.06-2.06.94z\"/><path d=\"M17.41 7.96l-1.37-1.37c-.4-.4-.92-.59-1.43-.59-.52 0-1.04.2-1.43.59L10.3 9.45l-7.72 7.72c-.78.78-.78 2.05 0 2.83L4 21.41c.39.39.9.59 1.41.59.51 0 1.02-.2 1.41-.59l7.78-7.78 2.81-2.81c.8-.78.8-2.07 0-2.86zM5.41 20L4 18.59l7.72-7.72 1.47 1.35L5.41 20z\"/>\n",
              "  </svg>\n",
              "      </button>\n",
              "      \n",
              "  <style>\n",
              "    .colab-df-container {\n",
              "      display:flex;\n",
              "      flex-wrap:wrap;\n",
              "      gap: 12px;\n",
              "    }\n",
              "\n",
              "    .colab-df-convert {\n",
              "      background-color: #E8F0FE;\n",
              "      border: none;\n",
              "      border-radius: 50%;\n",
              "      cursor: pointer;\n",
              "      display: none;\n",
              "      fill: #1967D2;\n",
              "      height: 32px;\n",
              "      padding: 0 0 0 0;\n",
              "      width: 32px;\n",
              "    }\n",
              "\n",
              "    .colab-df-convert:hover {\n",
              "      background-color: #E2EBFA;\n",
              "      box-shadow: 0px 1px 2px rgba(60, 64, 67, 0.3), 0px 1px 3px 1px rgba(60, 64, 67, 0.15);\n",
              "      fill: #174EA6;\n",
              "    }\n",
              "\n",
              "    [theme=dark] .colab-df-convert {\n",
              "      background-color: #3B4455;\n",
              "      fill: #D2E3FC;\n",
              "    }\n",
              "\n",
              "    [theme=dark] .colab-df-convert:hover {\n",
              "      background-color: #434B5C;\n",
              "      box-shadow: 0px 1px 3px 1px rgba(0, 0, 0, 0.15);\n",
              "      filter: drop-shadow(0px 1px 2px rgba(0, 0, 0, 0.3));\n",
              "      fill: #FFFFFF;\n",
              "    }\n",
              "  </style>\n",
              "\n",
              "      <script>\n",
              "        const buttonEl =\n",
              "          document.querySelector('#df-b12321a1-a124-4710-8472-416ddff37cda button.colab-df-convert');\n",
              "        buttonEl.style.display =\n",
              "          google.colab.kernel.accessAllowed ? 'block' : 'none';\n",
              "\n",
              "        async function convertToInteractive(key) {\n",
              "          const element = document.querySelector('#df-b12321a1-a124-4710-8472-416ddff37cda');\n",
              "          const dataTable =\n",
              "            await google.colab.kernel.invokeFunction('convertToInteractive',\n",
              "                                                     [key], {});\n",
              "          if (!dataTable) return;\n",
              "\n",
              "          const docLinkHtml = 'Like what you see? Visit the ' +\n",
              "            '<a target=\"_blank\" href=https://colab.research.google.com/notebooks/data_table.ipynb>data table notebook</a>'\n",
              "            + ' to learn more about interactive tables.';\n",
              "          element.innerHTML = '';\n",
              "          dataTable['output_type'] = 'display_data';\n",
              "          await google.colab.output.renderOutput(dataTable, element);\n",
              "          const docLink = document.createElement('div');\n",
              "          docLink.innerHTML = docLinkHtml;\n",
              "          element.appendChild(docLink);\n",
              "        }\n",
              "      </script>\n",
              "    </div>\n",
              "  </div>\n",
              "  "
            ]
          },
          "metadata": {},
          "execution_count": 4
        }
      ]
    },
    {
      "cell_type": "markdown",
      "source": [
        "---> its in 10 min timesteps, unnamed:0 is our datetime"
      ],
      "metadata": {
        "id": "DeF1s4K95hC_"
      }
    },
    {
      "cell_type": "code",
      "source": [
        "data.info()"
      ],
      "metadata": {
        "id": "7rm1zA8TkKY4",
        "colab": {
          "base_uri": "https://localhost:8080/"
        },
        "outputId": "5d7d2fa0-2c26-43c4-97f7-9e18f15ed70d"
      },
      "execution_count": 5,
      "outputs": [
        {
          "output_type": "stream",
          "name": "stdout",
          "text": [
            "<class 'pandas.core.frame.DataFrame'>\n",
            "RangeIndex: 118224 entries, 0 to 118223\n",
            "Data columns (total 22 columns):\n",
            " #   Column                        Non-Null Count   Dtype              \n",
            "---  ------                        --------------   -----              \n",
            " 0   Unnamed: 0                    118224 non-null  datetime64[ns, UTC]\n",
            " 1   ActivePower                   94750 non-null   float64            \n",
            " 2   AmbientTemperatue             93817 non-null   float64            \n",
            " 3   BearingShaftTemperature       62518 non-null   float64            \n",
            " 4   Blade1PitchAngle              41996 non-null   float64            \n",
            " 5   Blade2PitchAngle              41891 non-null   float64            \n",
            " 6   Blade3PitchAngle              41891 non-null   float64            \n",
            " 7   ControlBoxTemperature         62160 non-null   float64            \n",
            " 8   GearboxBearingTemperature     62540 non-null   float64            \n",
            " 9   GearboxOilTemperature         62438 non-null   float64            \n",
            " 10  GeneratorRPM                  62295 non-null   float64            \n",
            " 11  GeneratorWinding1Temperature  62427 non-null   float64            \n",
            " 12  GeneratorWinding2Temperature  62449 non-null   float64            \n",
            " 13  HubTemperature                62406 non-null   float64            \n",
            " 14  MainBoxTemperature            62507 non-null   float64            \n",
            " 15  NacellePosition               72278 non-null   float64            \n",
            " 16  ReactivePower                 94748 non-null   float64            \n",
            " 17  RotorRPM                      62127 non-null   float64            \n",
            " 18  TurbineStatus                 62908 non-null   float64            \n",
            " 19  WTG                           118224 non-null  object             \n",
            " 20  WindDirection                 72278 non-null   float64            \n",
            " 21  WindSpeed                     94595 non-null   float64            \n",
            "dtypes: datetime64[ns, UTC](1), float64(20), object(1)\n",
            "memory usage: 19.8+ MB\n"
          ]
        }
      ]
    },
    {
      "cell_type": "code",
      "source": [
        "print(data.nunique(axis=0))"
      ],
      "metadata": {
        "colab": {
          "base_uri": "https://localhost:8080/"
        },
        "id": "6k50Ec995kpe",
        "outputId": "2dcd8afe-fb0a-4ea1-ccba-e1192863bc68"
      },
      "execution_count": 6,
      "outputs": [
        {
          "output_type": "stream",
          "name": "stdout",
          "text": [
            "Unnamed: 0                      118224\n",
            "ActivePower                      94084\n",
            "AmbientTemperatue                93678\n",
            "BearingShaftTemperature          62286\n",
            "Blade1PitchAngle                 38946\n",
            "Blade2PitchAngle                 39021\n",
            "Blade3PitchAngle                 39021\n",
            "ControlBoxTemperature                1\n",
            "GearboxBearingTemperature        62313\n",
            "GearboxOilTemperature            62412\n",
            "GeneratorRPM                     61074\n",
            "GeneratorWinding1Temperature     62406\n",
            "GeneratorWinding2Temperature     62424\n",
            "HubTemperature                   38119\n",
            "MainBoxTemperature               49145\n",
            "NacellePosition                   6664\n",
            "ReactivePower                    94040\n",
            "RotorRPM                         59254\n",
            "TurbineStatus                      353\n",
            "WTG                                  1\n",
            "WindDirection                     6664\n",
            "WindSpeed                        94224\n",
            "dtype: int64\n"
          ]
        }
      ]
    },
    {
      "cell_type": "code",
      "source": [
        "df = data.copy(deep=True) #create a copy of our data in a new df to work with"
      ],
      "metadata": {
        "id": "ODAcua-E6vKx"
      },
      "execution_count": 7,
      "outputs": []
    },
    {
      "cell_type": "code",
      "source": [
        "df.drop(columns=['WTG', 'ControlBoxTemperature'], inplace=True) #drop these columns WTG and ControlboxTemperature only have 1 unique value. We drop it here"
      ],
      "metadata": {
        "id": "GGFuCrTU7hJY"
      },
      "execution_count": 8,
      "outputs": []
    },
    {
      "cell_type": "code",
      "source": [
        "#df= df.rename(columns={'Unnamed: 0':'DateTime'})  #rename the datetime column to a better suited title\n",
        "df['DateTime'] = df['Unnamed: 0'] \n",
        "df.drop('Unnamed: 0', axis=1, inplace=True)\n",
        "\n",
        "#df['DateTime']=pd.to_datetime(df['Unnamed: 0'],format= '%Y-%m-%dT%H:%M:%SZ',errors='coerce')"
      ],
      "metadata": {
        "id": "MnZoLUCZ7iPz"
      },
      "execution_count": 9,
      "outputs": []
    },
    {
      "cell_type": "code",
      "source": [
        "df['DateTime'].head(20)"
      ],
      "metadata": {
        "colab": {
          "base_uri": "https://localhost:8080/"
        },
        "id": "qI90qtAVL_MK",
        "outputId": "7535a940-640c-4422-ede9-1d3aff29af41"
      },
      "execution_count": 10,
      "outputs": [
        {
          "output_type": "execute_result",
          "data": {
            "text/plain": [
              "0    2017-12-31 00:00:00+00:00\n",
              "1    2017-12-31 00:10:00+00:00\n",
              "2    2017-12-31 00:20:00+00:00\n",
              "3    2017-12-31 00:30:00+00:00\n",
              "4    2017-12-31 00:40:00+00:00\n",
              "5    2017-12-31 00:50:00+00:00\n",
              "6    2017-12-31 01:00:00+00:00\n",
              "7    2017-12-31 01:10:00+00:00\n",
              "8    2017-12-31 01:20:00+00:00\n",
              "9    2017-12-31 01:30:00+00:00\n",
              "10   2017-12-31 01:40:00+00:00\n",
              "11   2017-12-31 01:50:00+00:00\n",
              "12   2017-12-31 02:00:00+00:00\n",
              "13   2017-12-31 02:10:00+00:00\n",
              "14   2017-12-31 02:20:00+00:00\n",
              "15   2017-12-31 02:30:00+00:00\n",
              "16   2017-12-31 02:40:00+00:00\n",
              "17   2017-12-31 02:50:00+00:00\n",
              "18   2017-12-31 03:00:00+00:00\n",
              "19   2017-12-31 03:10:00+00:00\n",
              "Name: DateTime, dtype: datetime64[ns, UTC]"
            ]
          },
          "metadata": {},
          "execution_count": 10
        }
      ]
    },
    {
      "cell_type": "code",
      "source": [
        "# Add datetime parameters \n",
        "df['DateTime'] = pd.to_datetime(df['DateTime'], \n",
        " format = '%Y-%m-%dT%H:%M:%SZ', \n",
        " errors = 'coerce')\n",
        "\n",
        "df['year'] = df['DateTime'].dt.year\n",
        "df['month'] = df['DateTime'].dt.month\n",
        "df['day'] = df['DateTime'].dt.day\n",
        "df['hour'] = df['DateTime'].dt.hour\n",
        "df['minute'] = df['DateTime'].dt.minute"
      ],
      "metadata": {
        "id": "7BCRVPAFL02b"
      },
      "execution_count": 11,
      "outputs": []
    },
    {
      "cell_type": "code",
      "source": [
        "# Drop original DateTime column\n",
        "df.drop('DateTime', axis=1, inplace= True)"
      ],
      "metadata": {
        "id": "08B-ydRxMutr"
      },
      "execution_count": 12,
      "outputs": []
    },
    {
      "cell_type": "code",
      "source": [
        "df.head()"
      ],
      "metadata": {
        "colab": {
          "base_uri": "https://localhost:8080/",
          "height": 270
        },
        "id": "eppdrkHp8cWX",
        "outputId": "2ff7b296-5601-477a-b581-7c308bc1ec4a"
      },
      "execution_count": 13,
      "outputs": [
        {
          "output_type": "execute_result",
          "data": {
            "text/plain": [
              "   ActivePower  AmbientTemperatue  BearingShaftTemperature  ...  day  hour  minute\n",
              "0          NaN                NaN                      NaN  ...   31     0       0\n",
              "1          NaN                NaN                      NaN  ...   31     0      10\n",
              "2          NaN                NaN                      NaN  ...   31     0      20\n",
              "3          NaN                NaN                      NaN  ...   31     0      30\n",
              "4          NaN                NaN                      NaN  ...   31     0      40\n",
              "\n",
              "[5 rows x 24 columns]"
            ],
            "text/html": [
              "\n",
              "  <div id=\"df-f7b180f3-f228-4b08-840a-75f078fcfb85\">\n",
              "    <div class=\"colab-df-container\">\n",
              "      <div>\n",
              "<style scoped>\n",
              "    .dataframe tbody tr th:only-of-type {\n",
              "        vertical-align: middle;\n",
              "    }\n",
              "\n",
              "    .dataframe tbody tr th {\n",
              "        vertical-align: top;\n",
              "    }\n",
              "\n",
              "    .dataframe thead th {\n",
              "        text-align: right;\n",
              "    }\n",
              "</style>\n",
              "<table border=\"1\" class=\"dataframe\">\n",
              "  <thead>\n",
              "    <tr style=\"text-align: right;\">\n",
              "      <th></th>\n",
              "      <th>ActivePower</th>\n",
              "      <th>AmbientTemperatue</th>\n",
              "      <th>BearingShaftTemperature</th>\n",
              "      <th>Blade1PitchAngle</th>\n",
              "      <th>Blade2PitchAngle</th>\n",
              "      <th>Blade3PitchAngle</th>\n",
              "      <th>GearboxBearingTemperature</th>\n",
              "      <th>GearboxOilTemperature</th>\n",
              "      <th>GeneratorRPM</th>\n",
              "      <th>GeneratorWinding1Temperature</th>\n",
              "      <th>GeneratorWinding2Temperature</th>\n",
              "      <th>HubTemperature</th>\n",
              "      <th>MainBoxTemperature</th>\n",
              "      <th>NacellePosition</th>\n",
              "      <th>ReactivePower</th>\n",
              "      <th>RotorRPM</th>\n",
              "      <th>TurbineStatus</th>\n",
              "      <th>WindDirection</th>\n",
              "      <th>WindSpeed</th>\n",
              "      <th>year</th>\n",
              "      <th>month</th>\n",
              "      <th>day</th>\n",
              "      <th>hour</th>\n",
              "      <th>minute</th>\n",
              "    </tr>\n",
              "  </thead>\n",
              "  <tbody>\n",
              "    <tr>\n",
              "      <th>0</th>\n",
              "      <td>NaN</td>\n",
              "      <td>NaN</td>\n",
              "      <td>NaN</td>\n",
              "      <td>NaN</td>\n",
              "      <td>NaN</td>\n",
              "      <td>NaN</td>\n",
              "      <td>NaN</td>\n",
              "      <td>NaN</td>\n",
              "      <td>NaN</td>\n",
              "      <td>NaN</td>\n",
              "      <td>NaN</td>\n",
              "      <td>NaN</td>\n",
              "      <td>NaN</td>\n",
              "      <td>NaN</td>\n",
              "      <td>NaN</td>\n",
              "      <td>NaN</td>\n",
              "      <td>NaN</td>\n",
              "      <td>NaN</td>\n",
              "      <td>NaN</td>\n",
              "      <td>2017</td>\n",
              "      <td>12</td>\n",
              "      <td>31</td>\n",
              "      <td>0</td>\n",
              "      <td>0</td>\n",
              "    </tr>\n",
              "    <tr>\n",
              "      <th>1</th>\n",
              "      <td>NaN</td>\n",
              "      <td>NaN</td>\n",
              "      <td>NaN</td>\n",
              "      <td>NaN</td>\n",
              "      <td>NaN</td>\n",
              "      <td>NaN</td>\n",
              "      <td>NaN</td>\n",
              "      <td>NaN</td>\n",
              "      <td>NaN</td>\n",
              "      <td>NaN</td>\n",
              "      <td>NaN</td>\n",
              "      <td>NaN</td>\n",
              "      <td>NaN</td>\n",
              "      <td>NaN</td>\n",
              "      <td>NaN</td>\n",
              "      <td>NaN</td>\n",
              "      <td>NaN</td>\n",
              "      <td>NaN</td>\n",
              "      <td>NaN</td>\n",
              "      <td>2017</td>\n",
              "      <td>12</td>\n",
              "      <td>31</td>\n",
              "      <td>0</td>\n",
              "      <td>10</td>\n",
              "    </tr>\n",
              "    <tr>\n",
              "      <th>2</th>\n",
              "      <td>NaN</td>\n",
              "      <td>NaN</td>\n",
              "      <td>NaN</td>\n",
              "      <td>NaN</td>\n",
              "      <td>NaN</td>\n",
              "      <td>NaN</td>\n",
              "      <td>NaN</td>\n",
              "      <td>NaN</td>\n",
              "      <td>NaN</td>\n",
              "      <td>NaN</td>\n",
              "      <td>NaN</td>\n",
              "      <td>NaN</td>\n",
              "      <td>NaN</td>\n",
              "      <td>NaN</td>\n",
              "      <td>NaN</td>\n",
              "      <td>NaN</td>\n",
              "      <td>NaN</td>\n",
              "      <td>NaN</td>\n",
              "      <td>NaN</td>\n",
              "      <td>2017</td>\n",
              "      <td>12</td>\n",
              "      <td>31</td>\n",
              "      <td>0</td>\n",
              "      <td>20</td>\n",
              "    </tr>\n",
              "    <tr>\n",
              "      <th>3</th>\n",
              "      <td>NaN</td>\n",
              "      <td>NaN</td>\n",
              "      <td>NaN</td>\n",
              "      <td>NaN</td>\n",
              "      <td>NaN</td>\n",
              "      <td>NaN</td>\n",
              "      <td>NaN</td>\n",
              "      <td>NaN</td>\n",
              "      <td>NaN</td>\n",
              "      <td>NaN</td>\n",
              "      <td>NaN</td>\n",
              "      <td>NaN</td>\n",
              "      <td>NaN</td>\n",
              "      <td>NaN</td>\n",
              "      <td>NaN</td>\n",
              "      <td>NaN</td>\n",
              "      <td>NaN</td>\n",
              "      <td>NaN</td>\n",
              "      <td>NaN</td>\n",
              "      <td>2017</td>\n",
              "      <td>12</td>\n",
              "      <td>31</td>\n",
              "      <td>0</td>\n",
              "      <td>30</td>\n",
              "    </tr>\n",
              "    <tr>\n",
              "      <th>4</th>\n",
              "      <td>NaN</td>\n",
              "      <td>NaN</td>\n",
              "      <td>NaN</td>\n",
              "      <td>NaN</td>\n",
              "      <td>NaN</td>\n",
              "      <td>NaN</td>\n",
              "      <td>NaN</td>\n",
              "      <td>NaN</td>\n",
              "      <td>NaN</td>\n",
              "      <td>NaN</td>\n",
              "      <td>NaN</td>\n",
              "      <td>NaN</td>\n",
              "      <td>NaN</td>\n",
              "      <td>NaN</td>\n",
              "      <td>NaN</td>\n",
              "      <td>NaN</td>\n",
              "      <td>NaN</td>\n",
              "      <td>NaN</td>\n",
              "      <td>NaN</td>\n",
              "      <td>2017</td>\n",
              "      <td>12</td>\n",
              "      <td>31</td>\n",
              "      <td>0</td>\n",
              "      <td>40</td>\n",
              "    </tr>\n",
              "  </tbody>\n",
              "</table>\n",
              "</div>\n",
              "      <button class=\"colab-df-convert\" onclick=\"convertToInteractive('df-f7b180f3-f228-4b08-840a-75f078fcfb85')\"\n",
              "              title=\"Convert this dataframe to an interactive table.\"\n",
              "              style=\"display:none;\">\n",
              "        \n",
              "  <svg xmlns=\"http://www.w3.org/2000/svg\" height=\"24px\"viewBox=\"0 0 24 24\"\n",
              "       width=\"24px\">\n",
              "    <path d=\"M0 0h24v24H0V0z\" fill=\"none\"/>\n",
              "    <path d=\"M18.56 5.44l.94 2.06.94-2.06 2.06-.94-2.06-.94-.94-2.06-.94 2.06-2.06.94zm-11 1L8.5 8.5l.94-2.06 2.06-.94-2.06-.94L8.5 2.5l-.94 2.06-2.06.94zm10 10l.94 2.06.94-2.06 2.06-.94-2.06-.94-.94-2.06-.94 2.06-2.06.94z\"/><path d=\"M17.41 7.96l-1.37-1.37c-.4-.4-.92-.59-1.43-.59-.52 0-1.04.2-1.43.59L10.3 9.45l-7.72 7.72c-.78.78-.78 2.05 0 2.83L4 21.41c.39.39.9.59 1.41.59.51 0 1.02-.2 1.41-.59l7.78-7.78 2.81-2.81c.8-.78.8-2.07 0-2.86zM5.41 20L4 18.59l7.72-7.72 1.47 1.35L5.41 20z\"/>\n",
              "  </svg>\n",
              "      </button>\n",
              "      \n",
              "  <style>\n",
              "    .colab-df-container {\n",
              "      display:flex;\n",
              "      flex-wrap:wrap;\n",
              "      gap: 12px;\n",
              "    }\n",
              "\n",
              "    .colab-df-convert {\n",
              "      background-color: #E8F0FE;\n",
              "      border: none;\n",
              "      border-radius: 50%;\n",
              "      cursor: pointer;\n",
              "      display: none;\n",
              "      fill: #1967D2;\n",
              "      height: 32px;\n",
              "      padding: 0 0 0 0;\n",
              "      width: 32px;\n",
              "    }\n",
              "\n",
              "    .colab-df-convert:hover {\n",
              "      background-color: #E2EBFA;\n",
              "      box-shadow: 0px 1px 2px rgba(60, 64, 67, 0.3), 0px 1px 3px 1px rgba(60, 64, 67, 0.15);\n",
              "      fill: #174EA6;\n",
              "    }\n",
              "\n",
              "    [theme=dark] .colab-df-convert {\n",
              "      background-color: #3B4455;\n",
              "      fill: #D2E3FC;\n",
              "    }\n",
              "\n",
              "    [theme=dark] .colab-df-convert:hover {\n",
              "      background-color: #434B5C;\n",
              "      box-shadow: 0px 1px 3px 1px rgba(0, 0, 0, 0.15);\n",
              "      filter: drop-shadow(0px 1px 2px rgba(0, 0, 0, 0.3));\n",
              "      fill: #FFFFFF;\n",
              "    }\n",
              "  </style>\n",
              "\n",
              "      <script>\n",
              "        const buttonEl =\n",
              "          document.querySelector('#df-f7b180f3-f228-4b08-840a-75f078fcfb85 button.colab-df-convert');\n",
              "        buttonEl.style.display =\n",
              "          google.colab.kernel.accessAllowed ? 'block' : 'none';\n",
              "\n",
              "        async function convertToInteractive(key) {\n",
              "          const element = document.querySelector('#df-f7b180f3-f228-4b08-840a-75f078fcfb85');\n",
              "          const dataTable =\n",
              "            await google.colab.kernel.invokeFunction('convertToInteractive',\n",
              "                                                     [key], {});\n",
              "          if (!dataTable) return;\n",
              "\n",
              "          const docLinkHtml = 'Like what you see? Visit the ' +\n",
              "            '<a target=\"_blank\" href=https://colab.research.google.com/notebooks/data_table.ipynb>data table notebook</a>'\n",
              "            + ' to learn more about interactive tables.';\n",
              "          element.innerHTML = '';\n",
              "          dataTable['output_type'] = 'display_data';\n",
              "          await google.colab.output.renderOutput(dataTable, element);\n",
              "          const docLink = document.createElement('div');\n",
              "          docLink.innerHTML = docLinkHtml;\n",
              "          element.appendChild(docLink);\n",
              "        }\n",
              "      </script>\n",
              "    </div>\n",
              "  </div>\n",
              "  "
            ]
          },
          "metadata": {},
          "execution_count": 13
        }
      ]
    },
    {
      "cell_type": "code",
      "source": [
        "df.info()"
      ],
      "metadata": {
        "colab": {
          "base_uri": "https://localhost:8080/"
        },
        "id": "uDuLsz5j8d2g",
        "outputId": "bbea8148-ee7a-4abf-ad08-f52e22d9c66f"
      },
      "execution_count": 14,
      "outputs": [
        {
          "output_type": "stream",
          "name": "stdout",
          "text": [
            "<class 'pandas.core.frame.DataFrame'>\n",
            "RangeIndex: 118224 entries, 0 to 118223\n",
            "Data columns (total 24 columns):\n",
            " #   Column                        Non-Null Count   Dtype  \n",
            "---  ------                        --------------   -----  \n",
            " 0   ActivePower                   94750 non-null   float64\n",
            " 1   AmbientTemperatue             93817 non-null   float64\n",
            " 2   BearingShaftTemperature       62518 non-null   float64\n",
            " 3   Blade1PitchAngle              41996 non-null   float64\n",
            " 4   Blade2PitchAngle              41891 non-null   float64\n",
            " 5   Blade3PitchAngle              41891 non-null   float64\n",
            " 6   GearboxBearingTemperature     62540 non-null   float64\n",
            " 7   GearboxOilTemperature         62438 non-null   float64\n",
            " 8   GeneratorRPM                  62295 non-null   float64\n",
            " 9   GeneratorWinding1Temperature  62427 non-null   float64\n",
            " 10  GeneratorWinding2Temperature  62449 non-null   float64\n",
            " 11  HubTemperature                62406 non-null   float64\n",
            " 12  MainBoxTemperature            62507 non-null   float64\n",
            " 13  NacellePosition               72278 non-null   float64\n",
            " 14  ReactivePower                 94748 non-null   float64\n",
            " 15  RotorRPM                      62127 non-null   float64\n",
            " 16  TurbineStatus                 62908 non-null   float64\n",
            " 17  WindDirection                 72278 non-null   float64\n",
            " 18  WindSpeed                     94595 non-null   float64\n",
            " 19  year                          118224 non-null  int64  \n",
            " 20  month                         118224 non-null  int64  \n",
            " 21  day                           118224 non-null  int64  \n",
            " 22  hour                          118224 non-null  int64  \n",
            " 23  minute                        118224 non-null  int64  \n",
            "dtypes: float64(19), int64(5)\n",
            "memory usage: 21.6 MB\n"
          ]
        }
      ]
    },
    {
      "cell_type": "markdown",
      "source": [
        "## Dealing with null/missing values"
      ],
      "metadata": {
        "id": "61ccjZNu_3oT"
      }
    },
    {
      "cell_type": "code",
      "source": [
        "df.isna().sum() #sum up the missing values for each column"
      ],
      "metadata": {
        "colab": {
          "base_uri": "https://localhost:8080/"
        },
        "id": "yb1AS2rXJTGJ",
        "outputId": "d7b67fc5-b49c-4abc-f3d8-63a5f793b6f4"
      },
      "execution_count": 15,
      "outputs": [
        {
          "output_type": "execute_result",
          "data": {
            "text/plain": [
              "ActivePower                     23474\n",
              "AmbientTemperatue               24407\n",
              "BearingShaftTemperature         55706\n",
              "Blade1PitchAngle                76228\n",
              "Blade2PitchAngle                76333\n",
              "Blade3PitchAngle                76333\n",
              "GearboxBearingTemperature       55684\n",
              "GearboxOilTemperature           55786\n",
              "GeneratorRPM                    55929\n",
              "GeneratorWinding1Temperature    55797\n",
              "GeneratorWinding2Temperature    55775\n",
              "HubTemperature                  55818\n",
              "MainBoxTemperature              55717\n",
              "NacellePosition                 45946\n",
              "ReactivePower                   23476\n",
              "RotorRPM                        56097\n",
              "TurbineStatus                   55316\n",
              "WindDirection                   45946\n",
              "WindSpeed                       23629\n",
              "year                                0\n",
              "month                               0\n",
              "day                                 0\n",
              "hour                                0\n",
              "minute                              0\n",
              "dtype: int64"
            ]
          },
          "metadata": {},
          "execution_count": 15
        }
      ]
    },
    {
      "cell_type": "code",
      "source": [
        "# lets start by just filling missing values with the median\n",
        "\n",
        "for label, content in df.items():                                               # df.items lets us iterate over column name, series --> returns a tuple with column name and the content as a series\n",
        "    if pd.api.types.is_numeric_dtype(content):                                  # Check whether the provided array or dtype is of a numeric dtype.\n",
        "        if pd.isnull(content).sum():\n",
        "            # Add a binary column which tells if the data was missing our not\n",
        "            df[label+\"_is_missing\"] = pd.isnull(content)\n",
        "            # Fill missing numeric values with median since it's more robust than the mean\n",
        "            df[label] = content.fillna(content.median())\n"
      ],
      "metadata": {
        "id": "LoDyyLMZM25k"
      },
      "execution_count": 16,
      "outputs": []
    },
    {
      "cell_type": "code",
      "source": [
        "df.head(1)"
      ],
      "metadata": {
        "colab": {
          "base_uri": "https://localhost:8080/",
          "height": 145
        },
        "id": "Xd2KwruwUqdn",
        "outputId": "7cec1cc4-d10d-4f52-9449-99cc7bcdb69e"
      },
      "execution_count": 17,
      "outputs": [
        {
          "output_type": "execute_result",
          "data": {
            "text/plain": [
              "   ActivePower  ...  WindSpeed_is_missing\n",
              "0   402.654893  ...                  True\n",
              "\n",
              "[1 rows x 43 columns]"
            ],
            "text/html": [
              "\n",
              "  <div id=\"df-0374d5d9-cd25-4366-80df-9250a10dc616\">\n",
              "    <div class=\"colab-df-container\">\n",
              "      <div>\n",
              "<style scoped>\n",
              "    .dataframe tbody tr th:only-of-type {\n",
              "        vertical-align: middle;\n",
              "    }\n",
              "\n",
              "    .dataframe tbody tr th {\n",
              "        vertical-align: top;\n",
              "    }\n",
              "\n",
              "    .dataframe thead th {\n",
              "        text-align: right;\n",
              "    }\n",
              "</style>\n",
              "<table border=\"1\" class=\"dataframe\">\n",
              "  <thead>\n",
              "    <tr style=\"text-align: right;\">\n",
              "      <th></th>\n",
              "      <th>ActivePower</th>\n",
              "      <th>AmbientTemperatue</th>\n",
              "      <th>BearingShaftTemperature</th>\n",
              "      <th>Blade1PitchAngle</th>\n",
              "      <th>Blade2PitchAngle</th>\n",
              "      <th>Blade3PitchAngle</th>\n",
              "      <th>GearboxBearingTemperature</th>\n",
              "      <th>GearboxOilTemperature</th>\n",
              "      <th>GeneratorRPM</th>\n",
              "      <th>GeneratorWinding1Temperature</th>\n",
              "      <th>GeneratorWinding2Temperature</th>\n",
              "      <th>HubTemperature</th>\n",
              "      <th>MainBoxTemperature</th>\n",
              "      <th>NacellePosition</th>\n",
              "      <th>ReactivePower</th>\n",
              "      <th>RotorRPM</th>\n",
              "      <th>TurbineStatus</th>\n",
              "      <th>WindDirection</th>\n",
              "      <th>WindSpeed</th>\n",
              "      <th>year</th>\n",
              "      <th>month</th>\n",
              "      <th>day</th>\n",
              "      <th>hour</th>\n",
              "      <th>minute</th>\n",
              "      <th>ActivePower_is_missing</th>\n",
              "      <th>AmbientTemperatue_is_missing</th>\n",
              "      <th>BearingShaftTemperature_is_missing</th>\n",
              "      <th>Blade1PitchAngle_is_missing</th>\n",
              "      <th>Blade2PitchAngle_is_missing</th>\n",
              "      <th>Blade3PitchAngle_is_missing</th>\n",
              "      <th>GearboxBearingTemperature_is_missing</th>\n",
              "      <th>GearboxOilTemperature_is_missing</th>\n",
              "      <th>GeneratorRPM_is_missing</th>\n",
              "      <th>GeneratorWinding1Temperature_is_missing</th>\n",
              "      <th>GeneratorWinding2Temperature_is_missing</th>\n",
              "      <th>HubTemperature_is_missing</th>\n",
              "      <th>MainBoxTemperature_is_missing</th>\n",
              "      <th>NacellePosition_is_missing</th>\n",
              "      <th>ReactivePower_is_missing</th>\n",
              "      <th>RotorRPM_is_missing</th>\n",
              "      <th>TurbineStatus_is_missing</th>\n",
              "      <th>WindDirection_is_missing</th>\n",
              "      <th>WindSpeed_is_missing</th>\n",
              "    </tr>\n",
              "  </thead>\n",
              "  <tbody>\n",
              "    <tr>\n",
              "      <th>0</th>\n",
              "      <td>402.654893</td>\n",
              "      <td>28.340541</td>\n",
              "      <td>42.910877</td>\n",
              "      <td>0.394399</td>\n",
              "      <td>0.888977</td>\n",
              "      <td>0.888977</td>\n",
              "      <td>64.834662</td>\n",
              "      <td>57.196089</td>\n",
              "      <td>1124.86072</td>\n",
              "      <td>65.7888</td>\n",
              "      <td>65.004946</td>\n",
              "      <td>37.003815</td>\n",
              "      <td>39.49131</td>\n",
              "      <td>182.0</td>\n",
              "      <td>35.883659</td>\n",
              "      <td>10.098702</td>\n",
              "      <td>2.0</td>\n",
              "      <td>182.0</td>\n",
              "      <td>5.557765</td>\n",
              "      <td>2017</td>\n",
              "      <td>12</td>\n",
              "      <td>31</td>\n",
              "      <td>0</td>\n",
              "      <td>0</td>\n",
              "      <td>True</td>\n",
              "      <td>True</td>\n",
              "      <td>True</td>\n",
              "      <td>True</td>\n",
              "      <td>True</td>\n",
              "      <td>True</td>\n",
              "      <td>True</td>\n",
              "      <td>True</td>\n",
              "      <td>True</td>\n",
              "      <td>True</td>\n",
              "      <td>True</td>\n",
              "      <td>True</td>\n",
              "      <td>True</td>\n",
              "      <td>True</td>\n",
              "      <td>True</td>\n",
              "      <td>True</td>\n",
              "      <td>True</td>\n",
              "      <td>True</td>\n",
              "      <td>True</td>\n",
              "    </tr>\n",
              "  </tbody>\n",
              "</table>\n",
              "</div>\n",
              "      <button class=\"colab-df-convert\" onclick=\"convertToInteractive('df-0374d5d9-cd25-4366-80df-9250a10dc616')\"\n",
              "              title=\"Convert this dataframe to an interactive table.\"\n",
              "              style=\"display:none;\">\n",
              "        \n",
              "  <svg xmlns=\"http://www.w3.org/2000/svg\" height=\"24px\"viewBox=\"0 0 24 24\"\n",
              "       width=\"24px\">\n",
              "    <path d=\"M0 0h24v24H0V0z\" fill=\"none\"/>\n",
              "    <path d=\"M18.56 5.44l.94 2.06.94-2.06 2.06-.94-2.06-.94-.94-2.06-.94 2.06-2.06.94zm-11 1L8.5 8.5l.94-2.06 2.06-.94-2.06-.94L8.5 2.5l-.94 2.06-2.06.94zm10 10l.94 2.06.94-2.06 2.06-.94-2.06-.94-.94-2.06-.94 2.06-2.06.94z\"/><path d=\"M17.41 7.96l-1.37-1.37c-.4-.4-.92-.59-1.43-.59-.52 0-1.04.2-1.43.59L10.3 9.45l-7.72 7.72c-.78.78-.78 2.05 0 2.83L4 21.41c.39.39.9.59 1.41.59.51 0 1.02-.2 1.41-.59l7.78-7.78 2.81-2.81c.8-.78.8-2.07 0-2.86zM5.41 20L4 18.59l7.72-7.72 1.47 1.35L5.41 20z\"/>\n",
              "  </svg>\n",
              "      </button>\n",
              "      \n",
              "  <style>\n",
              "    .colab-df-container {\n",
              "      display:flex;\n",
              "      flex-wrap:wrap;\n",
              "      gap: 12px;\n",
              "    }\n",
              "\n",
              "    .colab-df-convert {\n",
              "      background-color: #E8F0FE;\n",
              "      border: none;\n",
              "      border-radius: 50%;\n",
              "      cursor: pointer;\n",
              "      display: none;\n",
              "      fill: #1967D2;\n",
              "      height: 32px;\n",
              "      padding: 0 0 0 0;\n",
              "      width: 32px;\n",
              "    }\n",
              "\n",
              "    .colab-df-convert:hover {\n",
              "      background-color: #E2EBFA;\n",
              "      box-shadow: 0px 1px 2px rgba(60, 64, 67, 0.3), 0px 1px 3px 1px rgba(60, 64, 67, 0.15);\n",
              "      fill: #174EA6;\n",
              "    }\n",
              "\n",
              "    [theme=dark] .colab-df-convert {\n",
              "      background-color: #3B4455;\n",
              "      fill: #D2E3FC;\n",
              "    }\n",
              "\n",
              "    [theme=dark] .colab-df-convert:hover {\n",
              "      background-color: #434B5C;\n",
              "      box-shadow: 0px 1px 3px 1px rgba(0, 0, 0, 0.15);\n",
              "      filter: drop-shadow(0px 1px 2px rgba(0, 0, 0, 0.3));\n",
              "      fill: #FFFFFF;\n",
              "    }\n",
              "  </style>\n",
              "\n",
              "      <script>\n",
              "        const buttonEl =\n",
              "          document.querySelector('#df-0374d5d9-cd25-4366-80df-9250a10dc616 button.colab-df-convert');\n",
              "        buttonEl.style.display =\n",
              "          google.colab.kernel.accessAllowed ? 'block' : 'none';\n",
              "\n",
              "        async function convertToInteractive(key) {\n",
              "          const element = document.querySelector('#df-0374d5d9-cd25-4366-80df-9250a10dc616');\n",
              "          const dataTable =\n",
              "            await google.colab.kernel.invokeFunction('convertToInteractive',\n",
              "                                                     [key], {});\n",
              "          if (!dataTable) return;\n",
              "\n",
              "          const docLinkHtml = 'Like what you see? Visit the ' +\n",
              "            '<a target=\"_blank\" href=https://colab.research.google.com/notebooks/data_table.ipynb>data table notebook</a>'\n",
              "            + ' to learn more about interactive tables.';\n",
              "          element.innerHTML = '';\n",
              "          dataTable['output_type'] = 'display_data';\n",
              "          await google.colab.output.renderOutput(dataTable, element);\n",
              "          const docLink = document.createElement('div');\n",
              "          docLink.innerHTML = docLinkHtml;\n",
              "          element.appendChild(docLink);\n",
              "        }\n",
              "      </script>\n",
              "    </div>\n",
              "  </div>\n",
              "  "
            ]
          },
          "metadata": {},
          "execution_count": 17
        }
      ]
    },
    {
      "cell_type": "code",
      "source": [
        "df.isna().sum()"
      ],
      "metadata": {
        "colab": {
          "base_uri": "https://localhost:8080/"
        },
        "id": "LXI4R_tTUsFQ",
        "outputId": "c29f9a43-2f00-40b8-8832-910a39177ebd"
      },
      "execution_count": 18,
      "outputs": [
        {
          "output_type": "execute_result",
          "data": {
            "text/plain": [
              "ActivePower                                0\n",
              "AmbientTemperatue                          0\n",
              "BearingShaftTemperature                    0\n",
              "Blade1PitchAngle                           0\n",
              "Blade2PitchAngle                           0\n",
              "Blade3PitchAngle                           0\n",
              "GearboxBearingTemperature                  0\n",
              "GearboxOilTemperature                      0\n",
              "GeneratorRPM                               0\n",
              "GeneratorWinding1Temperature               0\n",
              "GeneratorWinding2Temperature               0\n",
              "HubTemperature                             0\n",
              "MainBoxTemperature                         0\n",
              "NacellePosition                            0\n",
              "ReactivePower                              0\n",
              "RotorRPM                                   0\n",
              "TurbineStatus                              0\n",
              "WindDirection                              0\n",
              "WindSpeed                                  0\n",
              "year                                       0\n",
              "month                                      0\n",
              "day                                        0\n",
              "hour                                       0\n",
              "minute                                     0\n",
              "ActivePower_is_missing                     0\n",
              "AmbientTemperatue_is_missing               0\n",
              "BearingShaftTemperature_is_missing         0\n",
              "Blade1PitchAngle_is_missing                0\n",
              "Blade2PitchAngle_is_missing                0\n",
              "Blade3PitchAngle_is_missing                0\n",
              "GearboxBearingTemperature_is_missing       0\n",
              "GearboxOilTemperature_is_missing           0\n",
              "GeneratorRPM_is_missing                    0\n",
              "GeneratorWinding1Temperature_is_missing    0\n",
              "GeneratorWinding2Temperature_is_missing    0\n",
              "HubTemperature_is_missing                  0\n",
              "MainBoxTemperature_is_missing              0\n",
              "NacellePosition_is_missing                 0\n",
              "ReactivePower_is_missing                   0\n",
              "RotorRPM_is_missing                        0\n",
              "TurbineStatus_is_missing                   0\n",
              "WindDirection_is_missing                   0\n",
              "WindSpeed_is_missing                       0\n",
              "dtype: int64"
            ]
          },
          "metadata": {},
          "execution_count": 18
        }
      ]
    },
    {
      "cell_type": "code",
      "source": [
        "#### Testing for Stationarity\n",
        "\n",
        "from statsmodels.tsa.stattools import adfuller\n",
        "test_result=adfuller(df['ActivePower'])\n",
        "#H0 it is non stationary\n",
        "#H1 it is stationary\n",
        "\n",
        "\n",
        "def adfuller_test(Power):\n",
        "  result=adfuller(Power)\n",
        "  labels=['ADF Test Statistic','p-value','#Lags Used','Number of Observations Used']\n",
        "  for value,label in zip(result,labels):\n",
        "      print(label+' : '+str(value) )\n",
        "  if result[1] <= 0.05:\n",
        "      print(\"strong evidence against the null hypothesis(Ho), reject the null hypothesis. Data has no unit root and is stationary\")\n",
        "  else:\n",
        "      print(\"weak evidence against null hypothesis, time series has a unit root, indicating it is non-stationary \")\n",
        "        \n",
        "adfuller_test(df['ActivePower'])"
      ],
      "metadata": {
        "colab": {
          "base_uri": "https://localhost:8080/"
        },
        "id": "l9-JciOgU4M_",
        "outputId": "61fcc3b2-3fab-4512-c7f8-f63ca9ce25b1"
      },
      "execution_count": 19,
      "outputs": [
        {
          "output_type": "stream",
          "name": "stdout",
          "text": [
            "ADF Test Statistic : -21.001664058258637\n",
            "p-value : 0.0\n",
            "#Lags Used : 71\n",
            "Number of Observations Used : 118152\n",
            "strong evidence against the null hypothesis(Ho), reject the null hypothesis. Data has no unit root and is stationary\n"
          ]
        }
      ]
    },
    {
      "cell_type": "code",
      "source": [],
      "metadata": {
        "id": "BqJw3NxTXb8_"
      },
      "execution_count": 19,
      "outputs": []
    },
    {
      "cell_type": "markdown",
      "source": [
        "## Exploration"
      ],
      "metadata": {
        "id": "k7FXnTUVda6w"
      }
    },
    {
      "cell_type": "code",
      "source": [
        "import matplotlib.pyplot as plt\n",
        "import statsmodels.api as sm"
      ],
      "metadata": {
        "id": "VYLpOafqddir"
      },
      "execution_count": 20,
      "outputs": []
    },
    {
      "cell_type": "code",
      "source": [
        "#Analysis of ACF and PACF \n",
        "fig = plt.figure(figsize=(10,6))\n",
        "ax1 = fig.add_subplot(211)\n",
        "fig = sm.graphics.tsa.plot_acf(df['ActivePower'], lags=30, ax=ax1)\n",
        "ax2 = fig.add_subplot(212)\n",
        "fig = sm.graphics.tsa.plot_pacf(df['ActivePower'], lags=30, ax=ax2)\n",
        "plt.xlabel('Time lag')\n",
        "plt.show()"
      ],
      "metadata": {
        "colab": {
          "base_uri": "https://localhost:8080/",
          "height": 404
        },
        "id": "xR-xPriSlXZg",
        "outputId": "c0edf6b4-2c29-4a49-a72a-6dcdfa9dfbde"
      },
      "execution_count": 21,
      "outputs": [
        {
          "output_type": "display_data",
          "data": {
            "text/plain": [
              "<Figure size 720x432 with 2 Axes>"
            ],
            "image/png": "[encoded data removed]"
          },
          "metadata": {
            "needs_background": "light"
          }
        }
      ]
    },
    {
      "cell_type": "code",
      "source": [
        "fig = plt.figure(figsize=(10,6))\n",
        "ax1 = fig.add_subplot(211)\n",
        "fig = sm.graphics.tsa.plot_acf(df['ActivePower'].diff().dropna(), lags=30, ax=ax1)\n",
        "ax2 = fig.add_subplot(212)\n",
        "fig = sm.graphics.tsa.plot_pacf(df['ActivePower'].diff().dropna(), lags=30, ax=ax2)\n",
        "plt.xlabel('Time lag')\n",
        "plt.show()"
      ],
      "metadata": {
        "colab": {
          "base_uri": "https://localhost:8080/",
          "height": 404
        },
        "id": "3qiDwJEW73pq",
        "outputId": "b1677988-3ccb-4ff7-f086-ce8b25da23df"
      },
      "execution_count": 22,
      "outputs": [
        {
          "output_type": "display_data",
          "data": {
            "text/plain": [
              "<Figure size 720x432 with 2 Axes>"
            ],
            "image/png": "[encoded data removed]"
          },
          "metadata": {
            "needs_background": "light"
          }
        }
      ]
    },
    {
      "cell_type": "code",
      "source": [
        "#just to show the moving average of the activepower\n",
        "activepower = df['ActivePower'][:3000]\n",
        "p_average=activepower.rolling(window=7).mean()"
      ],
      "metadata": {
        "id": "rIfFvWKalYa2"
      },
      "execution_count": 23,
      "outputs": []
    },
    {
      "cell_type": "code",
      "source": [
        "plt.figure(figsize=(10, 5))\n",
        "plt.plot(activepower, 'k-', label='Original',linewidth=1)\n",
        "plt.plot(p_average, 'g:', label='Running average', linewidth=1)\n",
        "plt.ylabel('Power (kW)') #check if it is really kW!!!!!!!!!!!!\n",
        "plt.xlabel('Date')\n",
        "plt.grid(linestyle=':')\n",
        "plt.fill_between(p_average.index, 0, p_average, color='g', alpha=0.1)\n",
        "plt.legend(loc='upper left')\n",
        "plt.show()"
      ],
      "metadata": {
        "colab": {
          "base_uri": "https://localhost:8080/",
          "height": 334
        },
        "id": "rCNjrfZanS-3",
        "outputId": "afe0f60a-f0cf-446d-e789-5d7975c4f2c6"
      },
      "execution_count": 24,
      "outputs": [
        {
          "output_type": "display_data",
          "data": {
            "text/plain": [
              "<Figure size 720x360 with 1 Axes>"
            ],
            "image/png": "[encoded data removed]"
          },
          "metadata": {
            "needs_background": "light"
          }
        }
      ]
    },
    {
      "cell_type": "markdown",
      "source": [
        "## Modelling"
      ],
      "metadata": {
        "id": "UqZniOTnlvrL"
      }
    },
    {
      "cell_type": "code",
      "source": [
        "# try ARIMA -> Auto-Regressive Integrated Moving Average\n",
        "#ARMA better choice because the time series is stationary?\n",
        "from statsmodels.tsa.arima.model import ARIMA\n",
        "\n",
        "model=ARIMA(df['ActivePower'][:6000], order=(3,0,3))   #order = (p,d,q) -> use cut-off point of PACF as p cut-off point of ACF as q /// A good way to think about it is (AR, I, MA) @stackexchange https://stats.stackexchange.com/questions/44992/what-are-the-values-p-d-q-in-arima\n",
        "model_fit=model.fit()"
      ],
      "metadata": {
        "colab": {
          "base_uri": "https://localhost:8080/"
        },
        "id": "63XG5cMclxHY",
        "outputId": "880f759e-32ad-4c00-c738-0ad25182971f"
      },
      "execution_count": 37,
      "outputs": [
        {
          "output_type": "stream",
          "name": "stderr",
          "text": [
            "/usr/local/lib/python3.7/dist-packages/statsmodels/base/model.py:568: ConvergenceWarning: Maximum Likelihood optimization failed to converge. Check mle_retvals\n",
            "  ConvergenceWarning)\n"
          ]
        }
      ]
    },
    {
      "cell_type": "code",
      "source": [
        "#plot residual errors\n",
        "residuals = pd.DataFrame(model_fit.resid)\n",
        "fig, ax = plt.subplots(1,2)\n",
        "residuals.plot(title=\"Residuals\", ax=ax[0])\n",
        "residuals.plot(kind='kde',title='Density', ax=ax[1])\n",
        "plt.show()"
      ],
      "metadata": {
        "colab": {
          "base_uri": "https://localhost:8080/",
          "height": 281
        },
        "id": "hvVhyTIa86Jf",
        "outputId": "dff11745-bbff-44a0-d69a-210942fc0d7b"
      },
      "execution_count": 38,
      "outputs": [
        {
          "output_type": "display_data",
          "data": {
            "text/plain": [
              "<Figure size 432x288 with 2 Axes>"
            ],
            "image/png": "[encoded data removed]"
          },
          "metadata": {
            "needs_background": "light"
          }
        }
      ]
    },
    {
      "cell_type": "code",
      "source": [
        "#Actual vs Fitted\n",
        "model_fit.plot_diagnostics()"
      ],
      "metadata": {
        "colab": {
          "base_uri": "https://localhost:8080/",
          "height": 573
        },
        "id": "HijAoyqnBwOs",
        "outputId": "afa6b94d-3afa-427b-cf64-e7cd0887aeaa"
      },
      "execution_count": 39,
      "outputs": [
        {
          "output_type": "execute_result",
          "data": {
            "text/plain": [
              "<Figure size 432x288 with 4 Axes>"
            ],
            "image/png": "[encoded data removed]"
          },
          "metadata": {},
          "execution_count": 39
        },
        {
          "output_type": "display_data",
          "data": {
            "text/plain": [
              "<Figure size 432x288 with 4 Axes>"
            ],
            "image/png": "[encoded data removed]"
          },
          "metadata": {
            "needs_background": "light"
          }
        }
      ]
    },
    {
      "cell_type": "code",
      "source": [
        "print(model_fit.summary())"
      ],
      "metadata": {
        "colab": {
          "base_uri": "https://localhost:8080/"
        },
        "id": "vlnbqbj1B8Nz",
        "outputId": "8c56d8f0-7a49-401b-e0df-9d06b9dcef4a"
      },
      "execution_count": 40,
      "outputs": [
        {
          "output_type": "stream",
          "name": "stdout",
          "text": [
            "                               SARIMAX Results                                \n",
            "==============================================================================\n",
            "Dep. Variable:            ActivePower   No. Observations:                 6000\n",
            "Model:                 ARIMA(3, 0, 3)   Log Likelihood              -36696.169\n",
            "Date:                Tue, 11 Oct 2022   AIC                          73408.338\n",
            "Time:                        12:40:25   BIC                          73461.934\n",
            "Sample:                             0   HQIC                         73426.950\n",
            "                               - 6000                                         \n",
            "Covariance Type:                  opg                                         \n",
            "==============================================================================\n",
            "                 coef    std err          z      P>|z|      [0.025      0.975]\n",
            "------------------------------------------------------------------------------\n",
            "const        369.0237     34.496     10.697      0.000     301.412     436.635\n",
            "ar.L1          0.0132      0.014      0.921      0.357      -0.015       0.041\n",
            "ar.L2         -0.0240      0.015     -1.591      0.112      -0.054       0.006\n",
            "ar.L3          0.8999      0.015     61.221      0.000       0.871       0.929\n",
            "ma.L1          0.7287      0.016     46.562      0.000       0.698       0.759\n",
            "ma.L2          0.7159      0.017     43.318      0.000       0.683       0.748\n",
            "ma.L3         -0.1727      0.010    -18.142      0.000      -0.191      -0.154\n",
            "sigma2      1.205e+04     86.146    139.912      0.000    1.19e+04    1.22e+04\n",
            "===================================================================================\n",
            "Ljung-Box (L1) (Q):                   0.02   Jarque-Bera (JB):             67299.73\n",
            "Prob(Q):                              0.90   Prob(JB):                         0.00\n",
            "Heteroskedasticity (H):               0.38   Skew:                             0.70\n",
            "Prob(H) (two-sided):                  0.00   Kurtosis:                        19.35\n",
            "===================================================================================\n",
            "\n",
            "Warnings:\n",
            "[1] Covariance matrix calculated using the outer product of gradients (complex-step).\n"
          ]
        }
      ]
    },
    {
      "cell_type": "code",
      "source": [],
      "metadata": {
        "id": "MWUJwYtFCuZi"
      },
      "execution_count": 42,
      "outputs": []
    },
    {
      "cell_type": "code",
      "source": [],
      "metadata": {
        "id": "GdfT5u2AEEVm"
      },
      "execution_count": null,
      "outputs": []
    }
  ]
}